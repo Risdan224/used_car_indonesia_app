{
 "cells": [
  {
   "cell_type": "markdown",
   "metadata": {},
   "source": [
    "## Import and Data Wrangling"
   ]
  },
  {
   "cell_type": "code",
   "execution_count": 9,
   "metadata": {},
   "outputs": [],
   "source": [
    "import pandas as pd\n",
    "import numpy as np\n",
    "import re\n",
    "\n",
    "used_car = pd.read_csv(\"new_used_car2.csv\")"
   ]
  },
  {
   "cell_type": "code",
   "execution_count": 10,
   "metadata": {},
   "outputs": [
    {
     "name": "stdout",
     "output_type": "stream",
     "text": [
      "<class 'pandas.core.frame.DataFrame'>\n",
      "RangeIndex: 13601 entries, 0 to 13600\n",
      "Data columns (total 13 columns):\n",
      " #   Column                Non-Null Count  Dtype \n",
      "---  ------                --------------  ----- \n",
      " 0   Unnamed: 0            13601 non-null  int64 \n",
      " 1   vehicle_id            13601 non-null  object\n",
      " 2   vehicle_title         13601 non-null  object\n",
      " 3   vehicle_make          13601 non-null  object\n",
      " 4   vehicle_model         13601 non-null  object\n",
      " 5   vehicle_body_type     13584 non-null  object\n",
      " 6   vehicle_year          13601 non-null  int64 \n",
      " 7   vehicle_mileage       13601 non-null  int64 \n",
      " 8   vehicle_transmission  13601 non-null  object\n",
      " 9   vehicle_variant       12237 non-null  object\n",
      " 10  vehicle_type          13601 non-null  object\n",
      " 11  vehicle_price         13601 non-null  object\n",
      " 12  vehicle_location      13601 non-null  object\n",
      "dtypes: int64(3), object(10)\n",
      "memory usage: 1.3+ MB\n"
     ]
    }
   ],
   "source": [
    "used_car.info()"
   ]
  },
  {
   "cell_type": "code",
   "execution_count": 11,
   "metadata": {},
   "outputs": [
    {
     "name": "stderr",
     "output_type": "stream",
     "text": [
      "C:\\Users\\Acer\\Anaconda3\\lib\\site-packages\\ipykernel_launcher.py:14: SettingWithCopyWarning: \n",
      "A value is trying to be set on a copy of a slice from a DataFrame\n",
      "\n",
      "See the caveats in the documentation: https://pandas.pydata.org/pandas-docs/stable/user_guide/indexing.html#returning-a-view-versus-a-copy\n",
      "  \n"
     ]
    }
   ],
   "source": [
    "# drop `Unnamed: 0` column\n",
    "used_car.drop('Unnamed: 0', axis=1, inplace=True)\n",
    "\n",
    "# correcting column name\n",
    "used_car.rename(columns={'vehicle_location': 'vehicle_link'}, inplace=True)\n",
    "\n",
    "# Correcting price column\n",
    "pattern = \"[0-9]+\"\n",
    "p = re.compile(pattern)\n",
    "\n",
    "used_car['vehicle_price_new'] = int(0)\n",
    "for i in range(len(used_car)):\n",
    "    draft_price = used_car.vehicle_price[i][3:].replace('.','')\n",
    "    used_car['vehicle_price_new'][i]= int(p.findall(draft_price)[0])\n",
    "    \n",
    "used_car.drop('vehicle_price', axis=1, inplace=True)\n",
    "used_car.rename(columns={'vehicle_price_new': 'vehicle_price'}, inplace=True)"
   ]
  },
  {
   "cell_type": "code",
   "execution_count": 12,
   "metadata": {
    "scrolled": false
   },
   "outputs": [
    {
     "data": {
      "text/html": [
       "<div>\n",
       "<style scoped>\n",
       "    .dataframe tbody tr th:only-of-type {\n",
       "        vertical-align: middle;\n",
       "    }\n",
       "\n",
       "    .dataframe tbody tr th {\n",
       "        vertical-align: top;\n",
       "    }\n",
       "\n",
       "    .dataframe thead th {\n",
       "        text-align: right;\n",
       "    }\n",
       "</style>\n",
       "<table border=\"1\" class=\"dataframe\">\n",
       "  <thead>\n",
       "    <tr style=\"text-align: right;\">\n",
       "      <th></th>\n",
       "      <th>count</th>\n",
       "      <th>mean</th>\n",
       "      <th>std</th>\n",
       "      <th>min</th>\n",
       "      <th>25%</th>\n",
       "      <th>50%</th>\n",
       "      <th>75%</th>\n",
       "      <th>max</th>\n",
       "    </tr>\n",
       "  </thead>\n",
       "  <tbody>\n",
       "    <tr>\n",
       "      <th>vehicle_year</th>\n",
       "      <td>13601.0</td>\n",
       "      <td>2.015918e+03</td>\n",
       "      <td>5.278001e+00</td>\n",
       "      <td>1963.0</td>\n",
       "      <td>2014.0</td>\n",
       "      <td>2017.0</td>\n",
       "      <td>2019.0</td>\n",
       "      <td>2.023000e+03</td>\n",
       "    </tr>\n",
       "    <tr>\n",
       "      <th>vehicle_mileage</th>\n",
       "      <td>13601.0</td>\n",
       "      <td>6.029567e+04</td>\n",
       "      <td>4.926512e+04</td>\n",
       "      <td>1.0</td>\n",
       "      <td>22500.0</td>\n",
       "      <td>47500.0</td>\n",
       "      <td>82500.0</td>\n",
       "      <td>9.999990e+05</td>\n",
       "    </tr>\n",
       "    <tr>\n",
       "      <th>vehicle_price</th>\n",
       "      <td>13601.0</td>\n",
       "      <td>4.294358e+08</td>\n",
       "      <td>6.342279e+08</td>\n",
       "      <td>450000.0</td>\n",
       "      <td>150000000.0</td>\n",
       "      <td>230000000.0</td>\n",
       "      <td>460000000.0</td>\n",
       "      <td>1.575000e+10</td>\n",
       "    </tr>\n",
       "  </tbody>\n",
       "</table>\n",
       "</div>"
      ],
      "text/plain": [
       "                   count          mean           std       min          25%  \\\n",
       "vehicle_year     13601.0  2.015918e+03  5.278001e+00    1963.0       2014.0   \n",
       "vehicle_mileage  13601.0  6.029567e+04  4.926512e+04       1.0      22500.0   \n",
       "vehicle_price    13601.0  4.294358e+08  6.342279e+08  450000.0  150000000.0   \n",
       "\n",
       "                         50%          75%           max  \n",
       "vehicle_year          2017.0       2019.0  2.023000e+03  \n",
       "vehicle_mileage      47500.0      82500.0  9.999990e+05  \n",
       "vehicle_price    230000000.0  460000000.0  1.575000e+10  "
      ]
     },
     "execution_count": 12,
     "metadata": {},
     "output_type": "execute_result"
    }
   ],
   "source": [
    "used_car.describe(include='number').T"
   ]
  },
  {
   "cell_type": "code",
   "execution_count": 13,
   "metadata": {
    "scrolled": false
   },
   "outputs": [
    {
     "data": {
      "text/html": [
       "<div>\n",
       "<style scoped>\n",
       "    .dataframe tbody tr th:only-of-type {\n",
       "        vertical-align: middle;\n",
       "    }\n",
       "\n",
       "    .dataframe tbody tr th {\n",
       "        vertical-align: top;\n",
       "    }\n",
       "\n",
       "    .dataframe thead th {\n",
       "        text-align: right;\n",
       "    }\n",
       "</style>\n",
       "<table border=\"1\" class=\"dataframe\">\n",
       "  <thead>\n",
       "    <tr style=\"text-align: right;\">\n",
       "      <th></th>\n",
       "      <th>count</th>\n",
       "      <th>unique</th>\n",
       "      <th>top</th>\n",
       "      <th>freq</th>\n",
       "    </tr>\n",
       "  </thead>\n",
       "  <tbody>\n",
       "    <tr>\n",
       "      <th>vehicle_id</th>\n",
       "      <td>13601</td>\n",
       "      <td>13592</td>\n",
       "      <td>listing_13111736</td>\n",
       "      <td>2</td>\n",
       "    </tr>\n",
       "    <tr>\n",
       "      <th>vehicle_title</th>\n",
       "      <td>13601</td>\n",
       "      <td>9078</td>\n",
       "      <td>2018 Mitsubishi Xpander ULTIMATE Wagon</td>\n",
       "      <td>49</td>\n",
       "    </tr>\n",
       "    <tr>\n",
       "      <th>vehicle_make</th>\n",
       "      <td>13601</td>\n",
       "      <td>53</td>\n",
       "      <td>Toyota</td>\n",
       "      <td>3784</td>\n",
       "    </tr>\n",
       "    <tr>\n",
       "      <th>vehicle_model</th>\n",
       "      <td>13601</td>\n",
       "      <td>534</td>\n",
       "      <td>Kijang Innova</td>\n",
       "      <td>620</td>\n",
       "    </tr>\n",
       "    <tr>\n",
       "      <th>vehicle_body_type</th>\n",
       "      <td>13584</td>\n",
       "      <td>25</td>\n",
       "      <td>SUV</td>\n",
       "      <td>3768</td>\n",
       "    </tr>\n",
       "    <tr>\n",
       "      <th>vehicle_transmission</th>\n",
       "      <td>13601</td>\n",
       "      <td>2</td>\n",
       "      <td>Automatic</td>\n",
       "      <td>11134</td>\n",
       "    </tr>\n",
       "    <tr>\n",
       "      <th>vehicle_variant</th>\n",
       "      <td>12237</td>\n",
       "      <td>759</td>\n",
       "      <td>G</td>\n",
       "      <td>1392</td>\n",
       "    </tr>\n",
       "    <tr>\n",
       "      <th>vehicle_type</th>\n",
       "      <td>13601</td>\n",
       "      <td>1</td>\n",
       "      <td>car</td>\n",
       "      <td>13601</td>\n",
       "    </tr>\n",
       "    <tr>\n",
       "      <th>vehicle_link</th>\n",
       "      <td>13601</td>\n",
       "      <td>13592</td>\n",
       "      <td>https://www.carmudi.co.id/dijual/suzuki-ertiga...</td>\n",
       "      <td>2</td>\n",
       "    </tr>\n",
       "  </tbody>\n",
       "</table>\n",
       "</div>"
      ],
      "text/plain": [
       "                      count unique  \\\n",
       "vehicle_id            13601  13592   \n",
       "vehicle_title         13601   9078   \n",
       "vehicle_make          13601     53   \n",
       "vehicle_model         13601    534   \n",
       "vehicle_body_type     13584     25   \n",
       "vehicle_transmission  13601      2   \n",
       "vehicle_variant       12237    759   \n",
       "vehicle_type          13601      1   \n",
       "vehicle_link          13601  13592   \n",
       "\n",
       "                                                                    top   freq  \n",
       "vehicle_id                                             listing_13111736      2  \n",
       "vehicle_title                    2018 Mitsubishi Xpander ULTIMATE Wagon     49  \n",
       "vehicle_make                                                     Toyota   3784  \n",
       "vehicle_model                                             Kijang Innova    620  \n",
       "vehicle_body_type                                                   SUV   3768  \n",
       "vehicle_transmission                                          Automatic  11134  \n",
       "vehicle_variant                                                       G   1392  \n",
       "vehicle_type                                                        car  13601  \n",
       "vehicle_link          https://www.carmudi.co.id/dijual/suzuki-ertiga...      2  "
      ]
     },
     "execution_count": 13,
     "metadata": {},
     "output_type": "execute_result"
    }
   ],
   "source": [
    "used_car.describe(exclude='number').T"
   ]
  },
  {
   "cell_type": "code",
   "execution_count": 14,
   "metadata": {
    "scrolled": true
   },
   "outputs": [
    {
     "data": {
      "text/html": [
       "<div>\n",
       "<style scoped>\n",
       "    .dataframe tbody tr th:only-of-type {\n",
       "        vertical-align: middle;\n",
       "    }\n",
       "\n",
       "    .dataframe tbody tr th {\n",
       "        vertical-align: top;\n",
       "    }\n",
       "\n",
       "    .dataframe thead th {\n",
       "        text-align: right;\n",
       "    }\n",
       "</style>\n",
       "<table border=\"1\" class=\"dataframe\">\n",
       "  <thead>\n",
       "    <tr style=\"text-align: right;\">\n",
       "      <th></th>\n",
       "      <th>vehicle_id</th>\n",
       "      <th>vehicle_title</th>\n",
       "      <th>vehicle_make</th>\n",
       "      <th>vehicle_model</th>\n",
       "      <th>vehicle_body_type</th>\n",
       "      <th>vehicle_year</th>\n",
       "      <th>vehicle_mileage</th>\n",
       "      <th>vehicle_transmission</th>\n",
       "      <th>vehicle_variant</th>\n",
       "      <th>vehicle_type</th>\n",
       "      <th>vehicle_link</th>\n",
       "      <th>vehicle_price</th>\n",
       "    </tr>\n",
       "  </thead>\n",
       "  <tbody>\n",
       "    <tr>\n",
       "      <th>873</th>\n",
       "      <td>listing_12938288</td>\n",
       "      <td>2015 Toyota Corolla Altis 1.8 V Sedan</td>\n",
       "      <td>Toyota</td>\n",
       "      <td>Corolla Altis</td>\n",
       "      <td>Sedan</td>\n",
       "      <td>2015</td>\n",
       "      <td>142500</td>\n",
       "      <td>Automatic</td>\n",
       "      <td>V</td>\n",
       "      <td>car</td>\n",
       "      <td>https://www.carmudi.co.id/dijual/toyota-coroll...</td>\n",
       "      <td>189000000</td>\n",
       "    </tr>\n",
       "    <tr>\n",
       "      <th>7525</th>\n",
       "      <td>listing_12626097</td>\n",
       "      <td>2020 Toyota Corolla Altis 1.8 V Sedan KM 9Ribu...</td>\n",
       "      <td>Toyota</td>\n",
       "      <td>Corolla Altis</td>\n",
       "      <td>Sedan</td>\n",
       "      <td>2020</td>\n",
       "      <td>7500</td>\n",
       "      <td>Automatic</td>\n",
       "      <td>V</td>\n",
       "      <td>car</td>\n",
       "      <td>https://www.carmudi.co.id/dijual/toyota-coroll...</td>\n",
       "      <td>355000000</td>\n",
       "    </tr>\n",
       "  </tbody>\n",
       "</table>\n",
       "</div>"
      ],
      "text/plain": [
       "            vehicle_id                                      vehicle_title  \\\n",
       "873   listing_12938288              2015 Toyota Corolla Altis 1.8 V Sedan   \n",
       "7525  listing_12626097  2020 Toyota Corolla Altis 1.8 V Sedan KM 9Ribu...   \n",
       "\n",
       "     vehicle_make  vehicle_model vehicle_body_type  vehicle_year  \\\n",
       "873        Toyota  Corolla Altis             Sedan          2015   \n",
       "7525       Toyota  Corolla Altis             Sedan          2020   \n",
       "\n",
       "      vehicle_mileage vehicle_transmission vehicle_variant vehicle_type  \\\n",
       "873            142500            Automatic               V          car   \n",
       "7525             7500            Automatic               V          car   \n",
       "\n",
       "                                           vehicle_link  vehicle_price  \n",
       "873   https://www.carmudi.co.id/dijual/toyota-coroll...      189000000  \n",
       "7525  https://www.carmudi.co.id/dijual/toyota-coroll...      355000000  "
      ]
     },
     "execution_count": 14,
     "metadata": {},
     "output_type": "execute_result"
    }
   ],
   "source": [
    "used_car.sample(2)"
   ]
  },
  {
   "cell_type": "code",
   "execution_count": 15,
   "metadata": {},
   "outputs": [
    {
     "data": {
      "text/plain": [
       "Toyota              3784\n",
       "Honda               2036\n",
       "Mercedes-Benz       1441\n",
       "BMW                 1183\n",
       "Daihatsu             906\n",
       "Mitsubishi           761\n",
       "Suzuki               723\n",
       "Nissan               579\n",
       "Mazda                372\n",
       "Lexus                224\n",
       "Wuling               205\n",
       "Hyundai              185\n",
       "Land Rover           147\n",
       "MINI                 129\n",
       "Porsche              112\n",
       "Chevrolet            111\n",
       "Volkswagen           103\n",
       "Jeep                  97\n",
       "Ford                  77\n",
       "Audi                  66\n",
       "Isuzu                 60\n",
       "KIA                   59\n",
       "Peugeot               27\n",
       "Jaguar                27\n",
       "Ferrari               24\n",
       "Datsun                24\n",
       "Hummer                19\n",
       "Tesla                 12\n",
       "Bentley               11\n",
       "Subaru                10\n",
       "Renault               10\n",
       "smart                 10\n",
       "Lamborghini            7\n",
       "DFSK                   7\n",
       "Aston Martin           6\n",
       "Rolls-Royce            6\n",
       "Dodge                  6\n",
       "Volvo                  5\n",
       "Maserati               5\n",
       "McLaren                5\n",
       "Hino                   4\n",
       "Cadillac               2\n",
       "MG                     2\n",
       "Fiat                   2\n",
       "Timor                  2\n",
       "Abarth                 1\n",
       "Chery                  1\n",
       "Opel                   1\n",
       "Aro                    1\n",
       "Holden                 1\n",
       "Mercedes-Maybach       1\n",
       "Proton                 1\n",
       "UD TRUCKS              1\n",
       "Name: vehicle_make, dtype: int64"
      ]
     },
     "execution_count": 15,
     "metadata": {},
     "output_type": "execute_result"
    }
   ],
   "source": [
    "used_car.vehicle_make.value_counts()"
   ]
  },
  {
   "cell_type": "markdown",
   "metadata": {},
   "source": [
    "#### Findings:\n",
    "1. To make data more robust, Minimal and maximal values for car will be at least 20.000.000 and 10.000.000.000 rupiah, values out of the range will be dropped.\n",
    "2. There are some duplicate values, duplicates will be drop.\n",
    "3. Car with manufacturer data less than 50 will be drop, because lack of dataset will make poor model performance."
   ]
  },
  {
   "cell_type": "code",
   "execution_count": 16,
   "metadata": {},
   "outputs": [],
   "source": [
    "# dropping car manufacturer with less than 50 data\n",
    "manufacturer_more50 = list(used_car.vehicle_make.value_counts()[used_car.vehicle_make.value_counts()>=50].index)\n",
    "\n",
    "used_car = used_car[used_car.vehicle_make.isin(manufacturer_more50)]"
   ]
  },
  {
   "cell_type": "code",
   "execution_count": 17,
   "metadata": {},
   "outputs": [],
   "source": [
    "# filtering with price\n",
    "used_car = used_car[(used_car.vehicle_price<10000000000) & (used_car.vehicle_price>20000000)]"
   ]
  },
  {
   "cell_type": "code",
   "execution_count": 18,
   "metadata": {},
   "outputs": [],
   "source": [
    "# dropping duplicates\n",
    "used_car.drop_duplicates(inplace=True)"
   ]
  },
  {
   "cell_type": "code",
   "execution_count": 19,
   "metadata": {},
   "outputs": [],
   "source": [
    "# resetting index\n",
    "used_car.reset_index(drop=True, inplace=True)"
   ]
  },
  {
   "cell_type": "code",
   "execution_count": 20,
   "metadata": {},
   "outputs": [
    {
     "name": "stderr",
     "output_type": "stream",
     "text": [
      "C:\\Users\\Acer\\Anaconda3\\lib\\site-packages\\pandas\\core\\indexing.py:1732: SettingWithCopyWarning: \n",
      "A value is trying to be set on a copy of a slice from a DataFrame\n",
      "\n",
      "See the caveats in the documentation: https://pandas.pydata.org/pandas-docs/stable/user_guide/indexing.html#returning-a-view-versus-a-copy\n",
      "  self._setitem_single_block(indexer, value, name)\n"
     ]
    }
   ],
   "source": [
    "# Fill null values in vehicle body type and correcting some values\n",
    "car_list = list(used_car[(used_car.vehicle_body_type.isnull()) & (used_car.vehicle_model == 'Yaris')].index)\n",
    "for i in car_list:\n",
    "    used_car['vehicle_body_type'].iloc[i] = 'Hatchback'\n",
    "    \n",
    "car_list = list(used_car[(used_car.vehicle_body_type.isnull()) & (used_car.vehicle_model == 'X-Trail')].index)\n",
    "for i in car_list:\n",
    "    used_car['vehicle_body_type'].iloc[i] = 'SUV'\n",
    "    \n",
    "car_list = list(used_car[(used_car.vehicle_body_type.isnull()) & (used_car.vehicle_model == 'Colt L300')].index)\n",
    "for i in car_list:\n",
    "    used_car['vehicle_body_type'].iloc[i] = 'Pick-up'\n",
    "\n",
    "car_list = list(used_car[(used_car.vehicle_body_type.isnull()) & (used_car.vehicle_model == 'Lancer')].index)\n",
    "for i in car_list:\n",
    "    used_car['vehicle_body_type'].iloc[i] = 'Sedan'\n",
    "\n",
    "car_list = list(used_car[(used_car.vehicle_body_type.isnull()) & (used_car.vehicle_model == 'Land Cruiser')].index)\n",
    "for i in car_list:\n",
    "    used_car['vehicle_body_type'].iloc[i] = 'SUV'\n",
    "\n",
    "car_list = list(used_car[(used_car.vehicle_body_type.isnull()) & (used_car.vehicle_model == 'A6')].index)\n",
    "for i in car_list:\n",
    "    used_car['vehicle_body_type'].iloc[i] = 'Sedan'\n",
    "\n",
    "car_list = list(used_car[(used_car.vehicle_body_type.isnull()) & (used_car.vehicle_model == 'Odyssey')].index)\n",
    "for i in car_list:\n",
    "    used_car['vehicle_body_type'].iloc[i] = 'MPV'\n",
    "    \n",
    "car_list = list(used_car[(used_car.vehicle_body_type == 'Others') & (used_car.vehicle_make == 'Mercedes-Benz')].index)\n",
    "for i in car_list:\n",
    "    used_car['vehicle_body_type'].iloc[i] = 'Coupe'\n",
    "    \n",
    "car_list = list(used_car[(used_car.vehicle_body_type == 'Convertibles Roadsters')].index)\n",
    "for i in car_list:\n",
    "    used_car['vehicle_body_type'].iloc[i] = 'Convertible'\n",
    "\n",
    "car_list = list(used_car[(used_car.vehicle_body_type == 'Pick Up')].index)\n",
    "for i in car_list:\n",
    "    used_car['vehicle_body_type'].iloc[i] = 'Pick-up'\n",
    "\n",
    "car_list = list(used_car[(used_car.vehicle_body_type == 'SUV Offroad 4WD')].index)\n",
    "for i in car_list:\n",
    "    used_car['vehicle_body_type'].iloc[i] = 'SUV'\n",
    "\n",
    "car_list = list(used_car[(used_car.vehicle_body_type == 'Classic Cars')].index)\n",
    "for i in car_list:\n",
    "    used_car['vehicle_body_type'].iloc[i] = 'Hatchback'\n",
    "\n",
    "car_list = list(used_car[(used_car.vehicle_body_type == 'Double Cabin')].index)\n",
    "for i in car_list:\n",
    "    used_car['vehicle_body_type'].iloc[i] = 'Trucks'\n",
    "\n",
    "car_list = list(used_car[(used_car.vehicle_body_type == 'Gran Coupe')].index)\n",
    "for i in car_list:\n",
    "    used_car['vehicle_body_type'].iloc[i] = 'Coupe'\n",
    "\n",
    "car_list = list(used_car[(used_car.vehicle_body_type == 'MPV Minivans')].index)\n",
    "for i in car_list:\n",
    "    used_car['vehicle_body_type'].iloc[i] = 'MPV'"
   ]
  },
  {
   "cell_type": "markdown",
   "metadata": {},
   "source": [
    "## Some EDA"
   ]
  },
  {
   "cell_type": "code",
   "execution_count": 21,
   "metadata": {},
   "outputs": [],
   "source": [
    "import seaborn as sns\n",
    "import matplotlib.pyplot as plt\n",
    "%matplotlib inline"
   ]
  },
  {
   "cell_type": "markdown",
   "metadata": {},
   "source": [
    "### Price"
   ]
  },
  {
   "cell_type": "code",
   "execution_count": 22,
   "metadata": {},
   "outputs": [
    {
     "data": {
      "text/plain": [
       "<matplotlib.axes._subplots.AxesSubplot at 0x1e3c2dbbc48>"
      ]
     },
     "execution_count": 22,
     "metadata": {},
     "output_type": "execute_result"
    },
    {
     "data": {
      "image/png": "[encoded data removed]",
      "text/plain": [
       "<Figure size 576x576 with 1 Axes>"
      ]
     },
     "metadata": {
      "needs_background": "light"
     },
     "output_type": "display_data"
    }
   ],
   "source": [
    "plt.figure(figsize=(8,8))\n",
    "sns.histplot(data=used_car, x='vehicle_price', bins=50)"
   ]
  },
  {
   "cell_type": "code",
   "execution_count": 23,
   "metadata": {},
   "outputs": [
    {
     "data": {
      "text/plain": [
       "<matplotlib.axes._subplots.AxesSubplot at 0x1e3c4ec5c88>"
      ]
     },
     "execution_count": 23,
     "metadata": {},
     "output_type": "execute_result"
    },
    {
     "data": {
      "image/png": "[encoded data removed]",
      "text/plain": [
       "<Figure size 576x576 with 1 Axes>"
      ]
     },
     "metadata": {
      "needs_background": "light"
     },
     "output_type": "display_data"
    }
   ],
   "source": [
    "# with filter of price under 2 billion rupiah\n",
    "plt.figure(figsize=(8,8))\n",
    "sns.histplot(data=used_car[used_car.vehicle_price<2000000000], x='vehicle_price', bins=50)"
   ]
  },
  {
   "cell_type": "markdown",
   "metadata": {},
   "source": [
    "### Mileage"
   ]
  },
  {
   "cell_type": "code",
   "execution_count": 24,
   "metadata": {},
   "outputs": [
    {
     "data": {
      "text/plain": [
       "<matplotlib.axes._subplots.AxesSubplot at 0x1e3c500f548>"
      ]
     },
     "execution_count": 24,
     "metadata": {},
     "output_type": "execute_result"
    },
    {
     "data": {
      "image/png": "[encoded data removed]",
      "text/plain": [
       "<Figure size 576x576 with 1 Axes>"
      ]
     },
     "metadata": {
      "needs_background": "light"
     },
     "output_type": "display_data"
    }
   ],
   "source": [
    "plt.figure(figsize=(8,8))\n",
    "sns.histplot(data=used_car, x='vehicle_mileage', bins=50, color='green')"
   ]
  },
  {
   "cell_type": "code",
   "execution_count": 25,
   "metadata": {
    "scrolled": false
   },
   "outputs": [
    {
     "data": {
      "text/plain": [
       "<matplotlib.axes._subplots.AxesSubplot at 0x1e3c515e848>"
      ]
     },
     "execution_count": 25,
     "metadata": {},
     "output_type": "execute_result"
    },
    {
     "data": {
      "image/png": "[encoded data removed]",
      "text/plain": [
       "<Figure size 576x576 with 1 Axes>"
      ]
     },
     "metadata": {
      "needs_background": "light"
     },
     "output_type": "display_data"
    }
   ],
   "source": [
    "# with filter of mileage under 300.000\n",
    "plt.figure(figsize=(8,8))\n",
    "sns.histplot(data=used_car[used_car.vehicle_mileage<300000], x='vehicle_mileage', bins=50, color='green')"
   ]
  },
  {
   "cell_type": "markdown",
   "metadata": {},
   "source": [
    "### Boxplot"
   ]
  },
  {
   "cell_type": "code",
   "execution_count": 26,
   "metadata": {},
   "outputs": [
    {
     "data": {
      "text/plain": [
       "<matplotlib.axes._subplots.AxesSubplot at 0x1e3c5174c48>"
      ]
     },
     "execution_count": 26,
     "metadata": {},
     "output_type": "execute_result"
    },
    {
     "data": {
      "image/png": "[encoded data removed]",
      "text/plain": [
       "<Figure size 864x864 with 1 Axes>"
      ]
     },
     "metadata": {
      "needs_background": "light"
     },
     "output_type": "display_data"
    }
   ],
   "source": [
    "plt.figure(figsize=(12,12))\n",
    "sns.boxplot(data=used_car, y='vehicle_make', x='vehicle_price')"
   ]
  },
  {
   "cell_type": "code",
   "execution_count": 27,
   "metadata": {},
   "outputs": [
    {
     "data": {
      "text/plain": [
       "<matplotlib.axes._subplots.AxesSubplot at 0x1e3c513cc88>"
      ]
     },
     "execution_count": 27,
     "metadata": {},
     "output_type": "execute_result"
    },
    {
     "data": {
      "image/png": "[encoded data removed]",
      "text/plain": [
       "<Figure size 864x720 with 1 Axes>"
      ]
     },
     "metadata": {
      "needs_background": "light"
     },
     "output_type": "display_data"
    }
   ],
   "source": [
    "plt.figure(figsize=(12,10))\n",
    "sns.boxplot(data=used_car, y='vehicle_body_type', x='vehicle_price')"
   ]
  },
  {
   "cell_type": "markdown",
   "metadata": {},
   "source": [
    "## Modeling"
   ]
  },
  {
   "cell_type": "code",
   "execution_count": 28,
   "metadata": {},
   "outputs": [],
   "source": [
    "# drop unused columns\n",
    "unused_cols= ['vehicle_id', 'vehicle_title', 'vehicle_variant', 'vehicle_link', 'vehicle_type']\n",
    "\n",
    "used_car_for_model = used_car.drop(unused_cols, axis=1)"
   ]
  },
  {
   "cell_type": "code",
   "execution_count": 29,
   "metadata": {},
   "outputs": [
    {
     "data": {
      "text/html": [
       "<div>\n",
       "<style scoped>\n",
       "    .dataframe tbody tr th:only-of-type {\n",
       "        vertical-align: middle;\n",
       "    }\n",
       "\n",
       "    .dataframe tbody tr th {\n",
       "        vertical-align: top;\n",
       "    }\n",
       "\n",
       "    .dataframe thead th {\n",
       "        text-align: right;\n",
       "    }\n",
       "</style>\n",
       "<table border=\"1\" class=\"dataframe\">\n",
       "  <thead>\n",
       "    <tr style=\"text-align: right;\">\n",
       "      <th></th>\n",
       "      <th>vehicle_make</th>\n",
       "      <th>vehicle_model</th>\n",
       "      <th>vehicle_body_type</th>\n",
       "      <th>vehicle_year</th>\n",
       "      <th>vehicle_mileage</th>\n",
       "      <th>vehicle_transmission</th>\n",
       "      <th>vehicle_price</th>\n",
       "    </tr>\n",
       "  </thead>\n",
       "  <tbody>\n",
       "    <tr>\n",
       "      <th>9951</th>\n",
       "      <td>Chevrolet</td>\n",
       "      <td>Captiva</td>\n",
       "      <td>SUV</td>\n",
       "      <td>2016</td>\n",
       "      <td>90000</td>\n",
       "      <td>Automatic</td>\n",
       "      <td>275000000</td>\n",
       "    </tr>\n",
       "    <tr>\n",
       "      <th>2284</th>\n",
       "      <td>Toyota</td>\n",
       "      <td>Kijang</td>\n",
       "      <td>MPV</td>\n",
       "      <td>1988</td>\n",
       "      <td>202500</td>\n",
       "      <td>Manual</td>\n",
       "      <td>69000000</td>\n",
       "    </tr>\n",
       "    <tr>\n",
       "      <th>9778</th>\n",
       "      <td>Toyota</td>\n",
       "      <td>Yaris</td>\n",
       "      <td>Hatchback</td>\n",
       "      <td>2021</td>\n",
       "      <td>27500</td>\n",
       "      <td>Automatic</td>\n",
       "      <td>229000000</td>\n",
       "    </tr>\n",
       "    <tr>\n",
       "      <th>8431</th>\n",
       "      <td>Honda</td>\n",
       "      <td>Mobilio</td>\n",
       "      <td>MPV</td>\n",
       "      <td>2014</td>\n",
       "      <td>81000</td>\n",
       "      <td>Automatic</td>\n",
       "      <td>120000000</td>\n",
       "    </tr>\n",
       "  </tbody>\n",
       "</table>\n",
       "</div>"
      ],
      "text/plain": [
       "     vehicle_make vehicle_model vehicle_body_type  vehicle_year  \\\n",
       "9951    Chevrolet       Captiva               SUV          2016   \n",
       "2284       Toyota        Kijang               MPV          1988   \n",
       "9778       Toyota         Yaris         Hatchback          2021   \n",
       "8431        Honda       Mobilio               MPV          2014   \n",
       "\n",
       "      vehicle_mileage vehicle_transmission  vehicle_price  \n",
       "9951            90000            Automatic      275000000  \n",
       "2284           202500               Manual       69000000  \n",
       "9778            27500            Automatic      229000000  \n",
       "8431            81000            Automatic      120000000  "
      ]
     },
     "execution_count": 29,
     "metadata": {},
     "output_type": "execute_result"
    }
   ],
   "source": [
    "used_car_for_model.sample(4)"
   ]
  },
  {
   "cell_type": "code",
   "execution_count": 164,
   "metadata": {},
   "outputs": [],
   "source": [
    "# PreProcessing\n",
    "from sklearn.compose import ColumnTransformer\n",
    "from sklearn.preprocessing import OneHotEncoder\n",
    "import category_encoders as ce\n",
    "from category_encoders import BinaryEncoder\n",
    "from sklearn.pipeline import Pipeline\n",
    "from sklearn.impute import SimpleImputer\n",
    "from sklearn.preprocessing import RobustScaler"
   ]
  },
  {
   "cell_type": "code",
   "execution_count": 172,
   "metadata": {},
   "outputs": [
    {
     "data": {
      "text/html": [
       "<div>\n",
       "<style scoped>\n",
       "    .dataframe tbody tr th:only-of-type {\n",
       "        vertical-align: middle;\n",
       "    }\n",
       "\n",
       "    .dataframe tbody tr th {\n",
       "        vertical-align: top;\n",
       "    }\n",
       "\n",
       "    .dataframe thead th {\n",
       "        text-align: right;\n",
       "    }\n",
       "</style>\n",
       "<table border=\"1\" class=\"dataframe\">\n",
       "  <thead>\n",
       "    <tr style=\"text-align: right;\">\n",
       "      <th></th>\n",
       "      <th>count</th>\n",
       "      <th>unique</th>\n",
       "      <th>top</th>\n",
       "      <th>freq</th>\n",
       "    </tr>\n",
       "  </thead>\n",
       "  <tbody>\n",
       "    <tr>\n",
       "      <th>vehicle_make</th>\n",
       "      <td>13345</td>\n",
       "      <td>22</td>\n",
       "      <td>Toyota</td>\n",
       "      <td>3779</td>\n",
       "    </tr>\n",
       "    <tr>\n",
       "      <th>vehicle_model</th>\n",
       "      <td>13345</td>\n",
       "      <td>448</td>\n",
       "      <td>Kijang Innova</td>\n",
       "      <td>619</td>\n",
       "    </tr>\n",
       "    <tr>\n",
       "      <th>vehicle_body_type</th>\n",
       "      <td>13345</td>\n",
       "      <td>16</td>\n",
       "      <td>SUV</td>\n",
       "      <td>3730</td>\n",
       "    </tr>\n",
       "    <tr>\n",
       "      <th>vehicle_transmission</th>\n",
       "      <td>13345</td>\n",
       "      <td>2</td>\n",
       "      <td>Automatic</td>\n",
       "      <td>10926</td>\n",
       "    </tr>\n",
       "  </tbody>\n",
       "</table>\n",
       "</div>"
      ],
      "text/plain": [
       "                      count unique            top   freq\n",
       "vehicle_make          13345     22         Toyota   3779\n",
       "vehicle_model         13345    448  Kijang Innova    619\n",
       "vehicle_body_type     13345     16            SUV   3730\n",
       "vehicle_transmission  13345      2      Automatic  10926"
      ]
     },
     "execution_count": 172,
     "metadata": {},
     "output_type": "execute_result"
    }
   ],
   "source": [
    "used_car_for_model.describe(exclude=\"number\").T"
   ]
  },
  {
   "cell_type": "code",
   "execution_count": 173,
   "metadata": {},
   "outputs": [],
   "source": [
    "# columns to transform and target\n",
    "onehot_cols = ['vehicle_transmission', 'vehicle_body_type', 'vehicle_make']\n",
    "binary_cols = ['vehicle_model']\n",
    "scale_cols = ['vehicle_mileage', 'vehicle_year']\n",
    "target_col = ['vehicle_price']"
   ]
  },
  {
   "cell_type": "code",
   "execution_count": 174,
   "metadata": {},
   "outputs": [],
   "source": [
    "transformer = ColumnTransformer([\n",
    "    ('onehot', OneHotEncoder(handle_unknown = 'ignore', drop='first'), onehot_cols),\n",
    "    ('binary', BinaryEncoder(), binary_cols),\n",
    "    ('scaler', RobustScaler(), scale_cols)\n",
    "], remainder = 'passthrough')"
   ]
  },
  {
   "cell_type": "code",
   "execution_count": 175,
   "metadata": {},
   "outputs": [],
   "source": [
    "# Import library untuk modeling\n",
    "\n",
    "from sklearn.model_selection import train_test_split, cross_val_score, RandomizedSearchCV, GridSearchCV, KFold\n",
    "\n",
    "import category_encoders as ce\n",
    "from sklearn.preprocessing import OneHotEncoder, PolynomialFeatures, KBinsDiscretizer\n",
    "from sklearn.compose import ColumnTransformer\n",
    "from sklearn.pipeline import Pipeline\n",
    "\n",
    "from sklearn.linear_model import LinearRegression\n",
    "from sklearn.ensemble import RandomForestRegressor\n",
    "from xgboost.sklearn import XGBRegressor\n",
    "from sklearn.compose import TransformedTargetRegressor\n",
    "\n",
    "from sklearn.metrics import r2_score, mean_squared_error, mean_absolute_error, mean_absolute_percentage_error"
   ]
  },
  {
   "cell_type": "code",
   "execution_count": 177,
   "metadata": {},
   "outputs": [],
   "source": [
    "# Memisahkan data independen variabel dengan target\n",
    "X = used_car_for_model.drop(target_col, axis=1)\n",
    "y = used_car_for_model[target_col]"
   ]
  },
  {
   "cell_type": "code",
   "execution_count": 178,
   "metadata": {},
   "outputs": [],
   "source": [
    "# Splitting data training dan test dengan proporsi 70:30\n",
    "X_train, X_test, y_train, y_test= train_test_split(\n",
    "    X,\n",
    "    y,  \n",
    "    test_size=0.3,\n",
    "    random_state=1)"
   ]
  },
  {
   "cell_type": "code",
   "execution_count": 181,
   "metadata": {},
   "outputs": [
    {
     "name": "stdout",
     "output_type": "stream",
     "text": [
      "[-0.30024434 -0.28586536 -0.28515268 -0.2644686  -0.28457231] TransformedTargetRegressor(func=<ufunc 'log'>, inverse_func=<ufunc 'exp'>,\n",
      "                           regressor=LinearRegression())\n",
      "[-0.14187276 -0.1394878  -0.13517807 -0.1333787  -0.12904991] TransformedTargetRegressor(func=<ufunc 'log'>, inverse_func=<ufunc 'exp'>,\n",
      "                           regressor=RandomForestRegressor(random_state=1))\n",
      "[-0.13640124 -0.13472156 -0.13096746 -0.12895857 -0.12030661] TransformedTargetRegressor(func=<ufunc 'log'>, inverse_func=<ufunc 'exp'>,\n",
      "                           regressor=XGBRegressor(base_score=None, booster=None,\n",
      "                                                  callbacks=None,\n",
      "                                                  colsample_bylevel=None,\n",
      "                                                  colsample_bynode=None,\n",
      "                                                  colsample_bytree=None,\n",
      "                                                  early_stopping_rounds=None,\n",
      "                                                  enable_categorical=False,\n",
      "                                                  eval_metric=None, gamma=None,\n",
      "                                                  gpu_id=None, grow_policy=None,\n",
      "                                                  importance_type=None,\n",
      "                                                  interaction_constraints=None,\n",
      "                                                  learning_rate=None,\n",
      "                                                  max_bin=None,\n",
      "                                                  max_cat_to_onehot=None,\n",
      "                                                  max_delta_step=None,\n",
      "                                                  max_depth=None,\n",
      "                                                  max_leaves=None,\n",
      "                                                  min_child_weight=None,\n",
      "                                                  missing=nan,\n",
      "                                                  monotone_constraints=None,\n",
      "                                                  n_estimators=100, n_jobs=None,\n",
      "                                                  num_parallel_tree=None,\n",
      "                                                  predictor=None,\n",
      "                                                  random_state=1,\n",
      "                                                  reg_alpha=None,\n",
      "                                                  reg_lambda=None, ...))\n"
     ]
    }
   ],
   "source": [
    "# Define algoritma yang digunakan\n",
    "lr = LinearRegression()\n",
    "rf = RandomForestRegressor(random_state=1)\n",
    "xgb = XGBRegressor(random_state=1)\n",
    "\n",
    "# Pemodelan dilakukan dalam skala logaritmik, namun kemudian di-inverse kembali untuk interpretasi\n",
    "log_lr = TransformedTargetRegressor(lr, func=np.log, inverse_func=np.exp)\n",
    "log_rf = TransformedTargetRegressor(rf, func=np.log, inverse_func=np.exp)\n",
    "log_xgb = TransformedTargetRegressor(xgb, func=np.log, inverse_func=np.exp)\n",
    "\n",
    "# Kandidat algoritma\n",
    "models = [log_lr, log_rf, log_xgb]\n",
    "\n",
    "score_mape = []\n",
    "nilai_mean_mape = []\n",
    "nilai_std_mape = []\n",
    "\n",
    "# Mencari algoritma terbaik berdasarkan nilai MAPE\n",
    "for i in models:\n",
    "    \n",
    "    crossval = KFold(n_splits=5, shuffle=True, random_state=1)\n",
    "\n",
    "    estimator = Pipeline([\n",
    "        ('transformer', transformer),\n",
    "        ('model', i)\n",
    "    ])\n",
    "\n",
    "    # MAPE\n",
    "    model_cv_mape = cross_val_score(\n",
    "        estimator, \n",
    "        X_train, \n",
    "        y_train, \n",
    "        cv=crossval, \n",
    "        scoring='neg_mean_absolute_percentage_error', \n",
    "        error_score='raise'\n",
    "        )\n",
    "\n",
    "    print(model_cv_mape, i)\n",
    "\n",
    "    score_mape.append(model_cv_mape)\n",
    "    nilai_mean_mape.append(model_cv_mape.mean())\n",
    "    nilai_std_mape.append(model_cv_mape.std())"
   ]
  },
  {
   "cell_type": "code",
   "execution_count": 182,
   "metadata": {},
   "outputs": [
    {
     "data": {
      "text/html": [
       "<div>\n",
       "<style scoped>\n",
       "    .dataframe tbody tr th:only-of-type {\n",
       "        vertical-align: middle;\n",
       "    }\n",
       "\n",
       "    .dataframe tbody tr th {\n",
       "        vertical-align: top;\n",
       "    }\n",
       "\n",
       "    .dataframe thead th {\n",
       "        text-align: right;\n",
       "    }\n",
       "</style>\n",
       "<table border=\"1\" class=\"dataframe\">\n",
       "  <thead>\n",
       "    <tr style=\"text-align: right;\">\n",
       "      <th></th>\n",
       "      <th>Model</th>\n",
       "      <th>Mean_MAPE</th>\n",
       "      <th>Std_MAPE</th>\n",
       "    </tr>\n",
       "  </thead>\n",
       "  <tbody>\n",
       "    <tr>\n",
       "      <th>0</th>\n",
       "      <td>Linear Regression</td>\n",
       "      <td>-0.284061</td>\n",
       "      <td>0.011406</td>\n",
       "    </tr>\n",
       "    <tr>\n",
       "      <th>1</th>\n",
       "      <td>RandomForest Regressor</td>\n",
       "      <td>-0.135793</td>\n",
       "      <td>0.004523</td>\n",
       "    </tr>\n",
       "    <tr>\n",
       "      <th>2</th>\n",
       "      <td>XGBoost Regressor</td>\n",
       "      <td>-0.130271</td>\n",
       "      <td>0.005637</td>\n",
       "    </tr>\n",
       "  </tbody>\n",
       "</table>\n",
       "</div>"
      ],
      "text/plain": [
       "                    Model  Mean_MAPE  Std_MAPE\n",
       "0       Linear Regression  -0.284061  0.011406\n",
       "1  RandomForest Regressor  -0.135793  0.004523\n",
       "2       XGBoost Regressor  -0.130271  0.005637"
      ]
     },
     "execution_count": 182,
     "metadata": {},
     "output_type": "execute_result"
    }
   ],
   "source": [
    "# Evaluasi hasil dari 3 kandidat algoritma yang digunakan\n",
    "pd.DataFrame({\n",
    "    'Model': ['Linear Regression','RandomForest Regressor', 'XGBoost Regressor'],\n",
    "    'Mean_MAPE': nilai_mean_mape,\n",
    "    'Std_MAPE': nilai_std_mape\n",
    "})"
   ]
  },
  {
   "cell_type": "code",
   "execution_count": 183,
   "metadata": {},
   "outputs": [
    {
     "name": "stderr",
     "output_type": "stream",
     "text": [
      "C:\\Users\\Acer\\Anaconda3\\lib\\site-packages\\sklearn\\pipeline.py:394: DataConversionWarning: A column-vector y was passed when a 1d array was expected. Please change the shape of y to (n_samples,), for example using ravel().\n",
      "  self._final_estimator.fit(Xt, y, **fit_params_last_step)\n"
     ]
    },
    {
     "data": {
      "text/html": [
       "<div>\n",
       "<style scoped>\n",
       "    .dataframe tbody tr th:only-of-type {\n",
       "        vertical-align: middle;\n",
       "    }\n",
       "\n",
       "    .dataframe tbody tr th {\n",
       "        vertical-align: top;\n",
       "    }\n",
       "\n",
       "    .dataframe thead th {\n",
       "        text-align: right;\n",
       "    }\n",
       "</style>\n",
       "<table border=\"1\" class=\"dataframe\">\n",
       "  <thead>\n",
       "    <tr style=\"text-align: right;\">\n",
       "      <th></th>\n",
       "      <th>MAPE</th>\n",
       "      <th>R2</th>\n",
       "    </tr>\n",
       "  </thead>\n",
       "  <tbody>\n",
       "    <tr>\n",
       "      <th>XGB</th>\n",
       "      <td>0.166771</td>\n",
       "      <td>0.876151</td>\n",
       "    </tr>\n",
       "    <tr>\n",
       "      <th>RandomForest</th>\n",
       "      <td>0.141979</td>\n",
       "      <td>0.875617</td>\n",
       "    </tr>\n",
       "  </tbody>\n",
       "</table>\n",
       "</div>"
      ],
      "text/plain": [
       "                  MAPE        R2\n",
       "XGB           0.166771  0.876151\n",
       "RandomForest  0.141979  0.875617"
      ]
     },
     "execution_count": 183,
     "metadata": {},
     "output_type": "execute_result"
    }
   ],
   "source": [
    "# Benchmark 2 model terbaik\n",
    "models = {\n",
    "    'XGB': XGBRegressor(random_state=1),\n",
    "    'RandomForest': RandomForestRegressor(random_state=1)\n",
    "}\n",
    "\n",
    "y_pred_benchmark = {}\n",
    "score_mape = []\n",
    "score_r2 = []\n",
    "\n",
    "# Prediksi pada test set\n",
    "for i in models:\n",
    "\n",
    "    model = Pipeline([\n",
    "        ('transformer', transformer),\n",
    "        ('model', models[i])\n",
    "        ])\n",
    "\n",
    "    model.fit(X_train, y_train)\n",
    "    y_pred_benchmark[i] = model.predict(X_test)\n",
    "    score_mape.append(mean_absolute_percentage_error(y_test,  y_pred_benchmark[i]))\n",
    "    score_r2.append(r2_score(y_test,  y_pred_benchmark[i]))\n",
    "\n",
    "score_before_tuning = pd.DataFrame({'MAPE': score_mape, 'R2': score_r2}, index=models.keys())\n",
    "score_before_tuning"
   ]
  },
  {
   "cell_type": "code",
   "execution_count": 184,
   "metadata": {},
   "outputs": [],
   "source": [
    "# XGBOOST\n",
    "\n",
    "# Maximum depth of a tree\n",
    "max_depth = list(np.arange(2, 30))\n",
    "\n",
    "# Step size shrinkage used in update to prevents overfitting\n",
    "learning_rate = list(np.arange(1, 100)/100)\n",
    "\n",
    "# Number of gradient boosted trees\n",
    "n_estimators = list(np.arange(100, 201))\n",
    "\n",
    "# Subsample ratio of the training instances\n",
    "subsample = list(np.arange(1, 10)/10)\n",
    "\n",
    "# Subsample ratio of columns for each level\n",
    "colsample_bylevel= list(np.arange(1, 10)/10)\n",
    "\n",
    "# L1 regularization term on weights\n",
    "reg_alpha = list(np.logspace(-3, 1, 10)) # Semakin besar nilainya, semakin konservatif/simpel modelnya\n",
    "\n",
    "# Hyperparam space XGboost\n",
    "hyperparam_space_xgb = {\n",
    "    'model__max_depth': max_depth, \n",
    "    'model__learning_rate': learning_rate,\n",
    "    'model__n_estimators': n_estimators,\n",
    "    'model__subsample': subsample,\n",
    "    'model__colsample_bylevel': colsample_bylevel,\n",
    "    'model__reg_alpha': reg_alpha\n",
    "}"
   ]
  },
  {
   "cell_type": "code",
   "execution_count": 187,
   "metadata": {},
   "outputs": [],
   "source": [
    "# Define model for hyperparameter tuning\n",
    "xgb = XGBRegressor(random_state=1, verbosity=0)\n",
    "\n",
    "# Pipeline for algorithm chain\n",
    "estimator_xgb = Pipeline([\n",
    "        ('preprocessing', transformer),\n",
    "        ('model', xgb)\n",
    "        ])\n",
    "\n",
    "crossval = KFold(n_splits=5, shuffle=True, random_state=1)\n",
    "\n",
    "# Hyperparameter tuning\n",
    "random_xgb = RandomizedSearchCV(\n",
    "    estimator_xgb, \n",
    "    param_distributions = hyperparam_space_xgb,\n",
    "    n_iter = 50,\n",
    "    cv = crossval, \n",
    "    scoring = 'neg_mean_absolute_percentage_error', \n",
    "    n_jobs = None,\n",
    " #   refit = 'neg_mean_absolute_error',\n",
    "    random_state = 1  \n",
    ")"
   ]
  },
  {
   "cell_type": "code",
   "execution_count": 188,
   "metadata": {},
   "outputs": [
    {
     "data": {
      "text/plain": [
       "RandomizedSearchCV(cv=KFold(n_splits=5, random_state=1, shuffle=True),\n",
       "                   estimator=Pipeline(steps=[('preprocessing',\n",
       "                                              ColumnTransformer(remainder='passthrough',\n",
       "                                                                transformers=[('onehot',\n",
       "                                                                               OneHotEncoder(drop='first',\n",
       "                                                                                             handle_unknown='ignore'),\n",
       "                                                                               ['vehicle_transmission',\n",
       "                                                                                'vehicle_body_type',\n",
       "                                                                                'vehicle_make']),\n",
       "                                                                              ('binary',\n",
       "                                                                               BinaryEncoder(),\n",
       "                                                                               ['vehicle_model']),\n",
       "                                                                              ('scaler',\n",
       "                                                                               Robus...\n",
       "                                                                121, 122, 123,\n",
       "                                                                124, 125, 126,\n",
       "                                                                127, 128, 129, ...],\n",
       "                                        'model__reg_alpha': [0.001,\n",
       "                                                             0.0027825594022071257,\n",
       "                                                             0.007742636826811269,\n",
       "                                                             0.021544346900318832,\n",
       "                                                             0.05994842503189409,\n",
       "                                                             0.1668100537200059,\n",
       "                                                             0.46415888336127775,\n",
       "                                                             1.2915496650148828,\n",
       "                                                             3.593813663804626,\n",
       "                                                             10.0],\n",
       "                                        'model__subsample': [0.1, 0.2, 0.3, 0.4,\n",
       "                                                             0.5, 0.6, 0.7, 0.8,\n",
       "                                                             0.9]},\n",
       "                   random_state=1,\n",
       "                   scoring='neg_mean_absolute_percentage_error')"
      ]
     },
     "execution_count": 188,
     "metadata": {},
     "output_type": "execute_result"
    }
   ],
   "source": [
    "random_xgb.fit(X_train, y_train)"
   ]
  },
  {
   "cell_type": "code",
   "execution_count": 189,
   "metadata": {},
   "outputs": [
    {
     "name": "stdout",
     "output_type": "stream",
     "text": [
      "XGBoost\n",
      "Best_score: -0.14229663189593206\n",
      "Best_params: {'model__subsample': 0.9, 'model__reg_alpha': 10.0, 'model__n_estimators': 194, 'model__max_depth': 10, 'model__learning_rate': 0.17, 'model__colsample_bylevel': 0.6}\n"
     ]
    }
   ],
   "source": [
    "# Cek skor dan params terbaik\n",
    "print('XGBoost')\n",
    "print('Best_score:', random_xgb.best_score_)\n",
    "print('Best_params:', random_xgb.best_params_)"
   ]
  },
  {
   "cell_type": "code",
   "execution_count": 190,
   "metadata": {},
   "outputs": [
    {
     "data": {
      "text/html": [
       "<div>\n",
       "<style scoped>\n",
       "    .dataframe tbody tr th:only-of-type {\n",
       "        vertical-align: middle;\n",
       "    }\n",
       "\n",
       "    .dataframe tbody tr th {\n",
       "        vertical-align: top;\n",
       "    }\n",
       "\n",
       "    .dataframe thead th {\n",
       "        text-align: right;\n",
       "    }\n",
       "</style>\n",
       "<table border=\"1\" class=\"dataframe\">\n",
       "  <thead>\n",
       "    <tr style=\"text-align: right;\">\n",
       "      <th></th>\n",
       "      <th>MAPE</th>\n",
       "      <th>r2</th>\n",
       "    </tr>\n",
       "  </thead>\n",
       "  <tbody>\n",
       "    <tr>\n",
       "      <th>XGB</th>\n",
       "      <td>0.127458</td>\n",
       "      <td>0.876598</td>\n",
       "    </tr>\n",
       "  </tbody>\n",
       "</table>\n",
       "</div>"
      ],
      "text/plain": [
       "         MAPE        r2\n",
       "XGB  0.127458  0.876598"
      ]
     },
     "execution_count": 190,
     "metadata": {},
     "output_type": "execute_result"
    }
   ],
   "source": [
    "# Model XGBoost\n",
    "model = {'XGB': XGBRegressor(random_state=1)}\n",
    "\n",
    "# Define model terhadap estimator terbaik\n",
    "xgb_tuning = random_xgb.best_estimator_\n",
    "\n",
    "# Fitting model\n",
    "xgb_tuning.fit(X_train, y_train)\n",
    "\n",
    "# Predict test set\n",
    "y_pred_xgb_tuning = xgb_tuning.predict(X_test)\n",
    "\n",
    "# Simpan nilai metrics RMSE, MAE & MAPE setelah tuning\n",
    "mape_xgb_tuning = mean_absolute_percentage_error(y_test, y_pred_xgb_tuning)\n",
    "r2_xgb_tuning = r2_score(y_test, y_pred_xgb_tuning)\n",
    "\n",
    "score_after_tuning_xgb = pd.DataFrame({'MAPE': mape_xgb_tuning, 'r2': r2_xgb_tuning}, index=model.keys())\n",
    "score_after_tuning_xgb"
   ]
  },
  {
   "cell_type": "code",
   "execution_count": 191,
   "metadata": {},
   "outputs": [],
   "source": [
    "# save the model\n",
    "import pickle\n",
    "file_name = 'indonesia_used_car_v1.pkl'\n",
    "\n",
    "pickle.dump(xgb_tuning, open(file_name, 'wb'))"
   ]
  },
  {
   "cell_type": "code",
   "execution_count": 192,
   "metadata": {},
   "outputs": [],
   "source": [
    "# save data for model\n",
    "used_car_for_model.to_csv(\"used_car_for_model.csv\", index=False)"
   ]
  },
  {
   "cell_type": "code",
   "execution_count": 193,
   "metadata": {},
   "outputs": [
    {
     "data": {
      "text/plain": [
       "Index(['vehicle_make', 'vehicle_model', 'vehicle_body_type', 'vehicle_year',\n",
       "       'vehicle_mileage', 'vehicle_transmission', 'vehicle_price'],\n",
       "      dtype='object')"
      ]
     },
     "execution_count": 193,
     "metadata": {},
     "output_type": "execute_result"
    }
   ],
   "source": [
    "used_car_for_model.columns"
   ]
  },
  {
   "cell_type": "code",
   "execution_count": 32,
   "metadata": {},
   "outputs": [
    {
     "data": {
      "text/html": [
       "<div>\n",
       "<style scoped>\n",
       "    .dataframe tbody tr th:only-of-type {\n",
       "        vertical-align: middle;\n",
       "    }\n",
       "\n",
       "    .dataframe tbody tr th {\n",
       "        vertical-align: top;\n",
       "    }\n",
       "\n",
       "    .dataframe thead th {\n",
       "        text-align: right;\n",
       "    }\n",
       "</style>\n",
       "<table border=\"1\" class=\"dataframe\">\n",
       "  <thead>\n",
       "    <tr style=\"text-align: right;\">\n",
       "      <th></th>\n",
       "      <th>count</th>\n",
       "      <th>mean</th>\n",
       "      <th>std</th>\n",
       "      <th>min</th>\n",
       "      <th>25%</th>\n",
       "      <th>50%</th>\n",
       "      <th>75%</th>\n",
       "      <th>max</th>\n",
       "    </tr>\n",
       "  </thead>\n",
       "  <tbody>\n",
       "    <tr>\n",
       "      <th>vehicle_year</th>\n",
       "      <td>619.0</td>\n",
       "      <td>2.015977e+03</td>\n",
       "      <td>4.115580e+00</td>\n",
       "      <td>2004.0</td>\n",
       "      <td>2014.0</td>\n",
       "      <td>2017.0</td>\n",
       "      <td>2019.0</td>\n",
       "      <td>2022.0</td>\n",
       "    </tr>\n",
       "    <tr>\n",
       "      <th>vehicle_mileage</th>\n",
       "      <td>619.0</td>\n",
       "      <td>8.529193e+04</td>\n",
       "      <td>5.058226e+04</td>\n",
       "      <td>138.0</td>\n",
       "      <td>51750.0</td>\n",
       "      <td>77500.0</td>\n",
       "      <td>112500.0</td>\n",
       "      <td>297500.0</td>\n",
       "    </tr>\n",
       "    <tr>\n",
       "      <th>vehicle_price</th>\n",
       "      <td>619.0</td>\n",
       "      <td>2.560996e+08</td>\n",
       "      <td>8.550689e+07</td>\n",
       "      <td>79000000.0</td>\n",
       "      <td>185000000.0</td>\n",
       "      <td>258000000.0</td>\n",
       "      <td>315000000.0</td>\n",
       "      <td>465000000.0</td>\n",
       "    </tr>\n",
       "  </tbody>\n",
       "</table>\n",
       "</div>"
      ],
      "text/plain": [
       "                 count          mean           std         min          25%  \\\n",
       "vehicle_year     619.0  2.015977e+03  4.115580e+00      2004.0       2014.0   \n",
       "vehicle_mileage  619.0  8.529193e+04  5.058226e+04       138.0      51750.0   \n",
       "vehicle_price    619.0  2.560996e+08  8.550689e+07  79000000.0  185000000.0   \n",
       "\n",
       "                         50%          75%          max  \n",
       "vehicle_year          2017.0       2019.0       2022.0  \n",
       "vehicle_mileage      77500.0     112500.0     297500.0  \n",
       "vehicle_price    258000000.0  315000000.0  465000000.0  "
      ]
     },
     "execution_count": 32,
     "metadata": {},
     "output_type": "execute_result"
    }
   ],
   "source": [
    "used_car_for_model[used_car_for_model.vehicle_model=='Kijang Innova'].describe().T"
   ]
  },
  {
   "cell_type": "code",
   "execution_count": null,
   "metadata": {},
   "outputs": [],
   "source": []
  }
 ],
 "metadata": {
  "kernelspec": {
   "display_name": "Python 3",
   "language": "python",
   "name": "python3"
  },
  "language_info": {
   "codemirror_mode": {
    "name": "ipython",
    "version": 3
   },
   "file_extension": ".py",
   "mimetype": "text/x-python",
   "name": "python",
   "nbconvert_exporter": "python",
   "pygments_lexer": "ipython3",
   "version": "3.7.4"
  }
 },
 "nbformat": 4,
 "nbformat_minor": 2
}
