{
 "cells": [
  {
   "cell_type": "markdown",
   "metadata": {},
   "source": [
    "## Import data"
   ]
  },
  {
   "cell_type": "code",
   "execution_count": 1,
   "metadata": {},
   "outputs": [
    {
     "ename": "NameError",
     "evalue": "name 'df' is not defined",
     "output_type": "error",
     "traceback": [
      "\u001b[1;31m---------------------------------------------------------------------------\u001b[0m",
      "\u001b[1;31mNameError\u001b[0m                                 Traceback (most recent call last)",
      "\u001b[1;32m<ipython-input-1-00cf07b74dcd>\u001b[0m in \u001b[0;36m<module>\u001b[1;34m\u001b[0m\n\u001b[1;32m----> 1\u001b[1;33m \u001b[0mdf\u001b[0m\u001b[1;33m\u001b[0m\u001b[1;33m\u001b[0m\u001b[0m\n\u001b[0m",
      "\u001b[1;31mNameError\u001b[0m: name 'df' is not defined"
     ]
    }
   ],
   "source": [
    "df"
   ]
  },
  {
   "cell_type": "code",
   "execution_count": 378,
   "metadata": {},
   "outputs": [],
   "source": [
    "import pandas as pd\n",
    "\n",
    "import seaborn as sns\n",
    "import matplotlib.pyplot as plt\n",
    "%matplotlib inline\n"
   ]
  },
  {
   "cell_type": "code",
   "execution_count": 379,
   "metadata": {},
   "outputs": [
    {
     "data": {
      "text/html": [
       "<div>\n",
       "<style scoped>\n",
       "    .dataframe tbody tr th:only-of-type {\n",
       "        vertical-align: middle;\n",
       "    }\n",
       "\n",
       "    .dataframe tbody tr th {\n",
       "        vertical-align: top;\n",
       "    }\n",
       "\n",
       "    .dataframe thead th {\n",
       "        text-align: right;\n",
       "    }\n",
       "</style>\n",
       "<table border=\"1\" class=\"dataframe\">\n",
       "  <thead>\n",
       "    <tr style=\"text-align: right;\">\n",
       "      <th></th>\n",
       "      <th>desc</th>\n",
       "      <th>price</th>\n",
       "      <th>odometer</th>\n",
       "      <th>transmision</th>\n",
       "      <th>location</th>\n",
       "      <th>link</th>\n",
       "    </tr>\n",
       "  </thead>\n",
       "  <tbody>\n",
       "    <tr>\n",
       "      <th>5524</th>\n",
       "      <td>2015 BMW 520i 2.0 Luxury Sedan</td>\n",
       "      <td>Rp 445.000.000</td>\n",
       "      <td>40 - 45K KM</td>\n",
       "      <td>Automatic</td>\n",
       "      <td>DKI Jakarta</td>\n",
       "      <td>https://www.carmudi.co.id/dijual/bmw-520i-luxu...</td>\n",
       "    </tr>\n",
       "    <tr>\n",
       "      <th>8207</th>\n",
       "      <td>2018 Toyota Camry 2.5 V Sedan - VERY GREAT CON...</td>\n",
       "      <td>Rp 335.000.000</td>\n",
       "      <td>45 - 50K KM</td>\n",
       "      <td>Automatic</td>\n",
       "      <td>DKI Jakarta</td>\n",
       "      <td>https://www.carmudi.co.id/dijual/toyota-camry-...</td>\n",
       "    </tr>\n",
       "    <tr>\n",
       "      <th>9964</th>\n",
       "      <td>2017 Toyota Yaris 1.5 TRD Sportivo Heykers Hat...</td>\n",
       "      <td>Rp 189.999.999</td>\n",
       "      <td>60 - 65K KM</td>\n",
       "      <td>Automatic</td>\n",
       "      <td>Jawa Timur</td>\n",
       "      <td>https://www.carmudi.co.id/dijual/toyota-yaris-...</td>\n",
       "    </tr>\n",
       "  </tbody>\n",
       "</table>\n",
       "</div>"
      ],
      "text/plain": [
       "                                                   desc           price  \\\n",
       "5524                     2015 BMW 520i 2.0 Luxury Sedan  Rp 445.000.000   \n",
       "8207  2018 Toyota Camry 2.5 V Sedan - VERY GREAT CON...  Rp 335.000.000   \n",
       "9964  2017 Toyota Yaris 1.5 TRD Sportivo Heykers Hat...  Rp 189.999.999   \n",
       "\n",
       "         odometer transmision     location  \\\n",
       "5524  40 - 45K KM   Automatic  DKI Jakarta   \n",
       "8207  45 - 50K KM   Automatic  DKI Jakarta   \n",
       "9964  60 - 65K KM   Automatic   Jawa Timur   \n",
       "\n",
       "                                                   link  \n",
       "5524  https://www.carmudi.co.id/dijual/bmw-520i-luxu...  \n",
       "8207  https://www.carmudi.co.id/dijual/toyota-camry-...  \n",
       "9964  https://www.carmudi.co.id/dijual/toyota-yaris-...  "
      ]
     },
     "execution_count": 379,
     "metadata": {},
     "output_type": "execute_result"
    }
   ],
   "source": [
    "used_car = pd.read_csv('used_car_indonesia_v2.csv')\n",
    "used_car.drop(['Unnamed: 0'], axis=1, inplace=True)\n",
    "used_car.sample(3)"
   ]
  },
  {
   "cell_type": "code",
   "execution_count": 380,
   "metadata": {},
   "outputs": [],
   "source": [
    "# used_car[used_car['odometer'].str.find('-')!=-1]['odometer'].unique()"
   ]
  },
  {
   "cell_type": "markdown",
   "metadata": {},
   "source": [
    "## Clean data: Raw Data to cleaned CSV"
   ]
  },
  {
   "cell_type": "markdown",
   "metadata": {},
   "source": [
    "### 1. Retrieves information from column: desc"
   ]
  },
  {
   "cell_type": "markdown",
   "metadata": {},
   "source": [
    "Target: splitting desc column to `year`, `manufacturer`, `model`, and `classification`"
   ]
  },
  {
   "cell_type": "markdown",
   "metadata": {},
   "source": [
    "#### column: `year`"
   ]
  },
  {
   "cell_type": "code",
   "execution_count": 381,
   "metadata": {},
   "outputs": [],
   "source": [
    "# Get year information\n",
    "def get_year(x):\n",
    "    return int(x[:4])\n",
    "used_car['year'] = used_car['desc'].apply(lambda x: get_year(x))"
   ]
  },
  {
   "cell_type": "code",
   "execution_count": 382,
   "metadata": {},
   "outputs": [
    {
     "data": {
      "text/plain": [
       "<matplotlib.axes._subplots.AxesSubplot at 0x25396473688>"
      ]
     },
     "execution_count": 382,
     "metadata": {},
     "output_type": "execute_result"
    },
    {
     "data": {
      "image/png": "[encoded data removed]",
      "text/plain": [
       "<Figure size 432x864 with 1 Axes>"
      ]
     },
     "metadata": {
      "needs_background": "light"
     },
     "output_type": "display_data"
    }
   ],
   "source": [
    "plt.figure(figsize=(6,12))\n",
    "sns.countplot(data=used_car, y='year')"
   ]
  },
  {
   "cell_type": "markdown",
   "metadata": {},
   "source": [
    "#### column: `manufacturer`"
   ]
  },
  {
   "cell_type": "code",
   "execution_count": 383,
   "metadata": {},
   "outputs": [],
   "source": [
    "# get car manufacturer\n",
    "def get_manufacturer(x):\n",
    "    return x.split()[1]\n",
    "used_car['manufacturer'] = used_car['desc'].apply(lambda x: get_manufacturer(x))"
   ]
  },
  {
   "cell_type": "code",
   "execution_count": 384,
   "metadata": {},
   "outputs": [
    {
     "data": {
      "text/plain": [
       "<matplotlib.axes._subplots.AxesSubplot at 0x25394e06948>"
      ]
     },
     "execution_count": 384,
     "metadata": {},
     "output_type": "execute_result"
    },
    {
     "data": {
      "image/png": "[encoded data removed]",
      "text/plain": [
       "<Figure size 432x864 with 1 Axes>"
      ]
     },
     "metadata": {
      "needs_background": "light"
     },
     "output_type": "display_data"
    }
   ],
   "source": [
    "plt.figure(figsize=(6,12))\n",
    "sns.countplot(data=used_car, y='manufacturer')"
   ]
  },
  {
   "cell_type": "markdown",
   "metadata": {},
   "source": [
    "Findings:\n",
    "- 'Land' change to 'Land Rover'\n",
    "- 'Cherokee' change to 'Jeep'\n",
    "- 'smart' change to 'Smart Fortwo'\n",
    "- 'Asaton' change to 'Aston Martin'\n",
    "- 'Dodge' change to 'Dodge Journey'\n",
    "\n",
    "\n",
    "- 'Lexus' is a brand from Toyota\n",
    "- 'Chevrolet', 'Wuling', 'Hummer', 'Cadillac' are brands from Genaral Motor\n",
    "- 'Datsun' is a brand from Nissan\n",
    "- 'Jaguar' is a brand from Land Rover"
   ]
  },
  {
   "cell_type": "code",
   "execution_count": 385,
   "metadata": {},
   "outputs": [],
   "source": [
    "# Correcting manufacturer/ brand name\n",
    "used_car['manufacturer'].replace('Land','Land Rover', inplace=True)\n",
    "used_car['manufacturer'].replace('Cherokee','Jeep', inplace=True)\n",
    "used_car['manufacturer'].replace('smart','Smart Fortwo', inplace=True)\n",
    "used_car['manufacturer'].replace('Dodge','Dodge Journey', inplace=True)\n",
    "used_car['manufacturer'].replace('Aston','Aston Martin', inplace=True)"
   ]
  },
  {
   "cell_type": "code",
   "execution_count": 386,
   "metadata": {},
   "outputs": [
    {
     "data": {
      "text/plain": [
       "Toyota              3672\n",
       "Honda               2004\n",
       "Mercedes-Benz       1427\n",
       "BMW                 1188\n",
       "Daihatsu             869\n",
       "Mitsubishi           737\n",
       "Suzuki               684\n",
       "Nissan               572\n",
       "Mazda                365\n",
       "Lexus                224\n",
       "Wuling               203\n",
       "Hyundai              189\n",
       "Land Rover           148\n",
       "MINI                 120\n",
       "Chevrolet            119\n",
       "Porsche              113\n",
       "Volkswagen           101\n",
       "Jeep                  92\n",
       "Ford                  74\n",
       "Audi                  60\n",
       "KIA                   54\n",
       "Isuzu                 51\n",
       "Jaguar                27\n",
       "Datsun                25\n",
       "Ferrari               25\n",
       "Peugeot               24\n",
       "Hummer                18\n",
       "Tesla                 12\n",
       "Subaru                12\n",
       "Renault               10\n",
       "Bentley               10\n",
       "Smart Fortwo          10\n",
       "Lamborghini            7\n",
       "DFSK                   7\n",
       "Volvo                  7\n",
       "Rolls-Royce            6\n",
       "Aston Martin           6\n",
       "McLaren                5\n",
       "Maserati               5\n",
       "Dodge Journey          4\n",
       "CJ                     2\n",
       "MG                     2\n",
       "Fiat                   2\n",
       "Timor                  2\n",
       "Cadillac               2\n",
       "Holden                 1\n",
       "Aro                    1\n",
       "Hino                   1\n",
       "Opel                   1\n",
       "Mercedes-Maybach       1\n",
       "Proton                 1\n",
       "Abarth                 1\n",
       "Name: manufacturer, dtype: int64"
      ]
     },
     "execution_count": 386,
     "metadata": {},
     "output_type": "execute_result"
    }
   ],
   "source": [
    "used_car.manufacturer.value_counts()"
   ]
  },
  {
   "cell_type": "code",
   "execution_count": 387,
   "metadata": {},
   "outputs": [
    {
     "data": {
      "text/plain": [
       "<matplotlib.axes._subplots.AxesSubplot at 0x25395177b48>"
      ]
     },
     "execution_count": 387,
     "metadata": {},
     "output_type": "execute_result"
    },
    {
     "data": {
      "image/png": "[encoded data removed]",
      "text/plain": [
       "<Figure size 432x864 with 1 Axes>"
      ]
     },
     "metadata": {
      "needs_background": "light"
     },
     "output_type": "display_data"
    }
   ],
   "source": [
    "plt.figure(figsize=(6,12))\n",
    "sns.countplot(data=used_car, y='manufacturer')"
   ]
  },
  {
   "cell_type": "markdown",
   "metadata": {},
   "source": [
    "#### column: `model`"
   ]
  },
  {
   "cell_type": "code",
   "execution_count": 388,
   "metadata": {},
   "outputs": [],
   "source": [
    "def get_model(x):\n",
    "    return x.split()[2]\n",
    "used_car['model'] = used_car['desc'].apply(lambda x : get_model(x))"
   ]
  },
  {
   "cell_type": "code",
   "execution_count": 389,
   "metadata": {},
   "outputs": [
    {
     "data": {
      "text/plain": [
       "Ertiga      227\n",
       "Ignis        83\n",
       "XL7          81\n",
       "Baleno       51\n",
       "SX4          41\n",
       "Karimun      34\n",
       "Jimny        31\n",
       "Carry        29\n",
       "Swift        28\n",
       "APV          20\n",
       "Katana       17\n",
       "Splash       12\n",
       "Grand        12\n",
       "Escudo        7\n",
       "S-Presso      3\n",
       "Sidekick      2\n",
       "Mega          2\n",
       "Vitara        1\n",
       "Side          1\n",
       "Aerio         1\n",
       "Neo           1\n",
       "Name: model, dtype: int64"
      ]
     },
     "execution_count": 389,
     "metadata": {},
     "output_type": "execute_result"
    }
   ],
   "source": [
    "# Check suzuki models\n",
    "used_car[used_car.manufacturer == 'Suzuki'][\"model\"].value_counts()"
   ]
  },
  {
   "cell_type": "code",
   "execution_count": 390,
   "metadata": {},
   "outputs": [],
   "source": [
    "# Correcting the models\n",
    "used_car['model'].replace('Grand','Grand Vitara', inplace=True)\n",
    "used_car['model'].replace('Vitara', 'Grand Vitara', inplace=True)\n",
    "used_car['model'].replace('Side', 'Sidekick', inplace=True)\n",
    "used_car['model'].replace('Neo', 'Baleno', inplace=True)\n",
    "used_car['model'].replace('Mega', 'Carry', inplace=True)"
   ]
  },
  {
   "cell_type": "code",
   "execution_count": 391,
   "metadata": {},
   "outputs": [
    {
     "data": {
      "text/plain": [
       "Index(['320i', 'X1', 'X5', '520i', 'X3', '528i', '530i', '730Li', '330i',\n",
       "       '520d', '328i', 'X7', 'M4', '218i', '318i', '740Li', '325i', '640i',\n",
       "       'X4', 'Z4', 'M2', '535i', '840i', 'M3', '320d', '523i', '430i', 'iX',\n",
       "       '323i', 'M850i', '335i', 'X6', '435i', '750Li', '120i', '116i', '428i',\n",
       "       'M135i', '730Ld', 'X2', '735IL', 'M5', 'M235i', 'i8', '440i', '550i',\n",
       "       'i7'],\n",
       "      dtype='object')"
      ]
     },
     "execution_count": 391,
     "metadata": {},
     "output_type": "execute_result"
    }
   ],
   "source": [
    "# check BMW models\n",
    "used_car[used_car.manufacturer == 'BMW'][\"model\"].value_counts().index"
   ]
  },
  {
   "cell_type": "code",
   "execution_count": 392,
   "metadata": {},
   "outputs": [],
   "source": [
    "correcting_BMW = [\n",
    "    [['320i', '330i', '328i', '318i', '325i', '320d', '323i', '335i'], '3 Series'],\n",
    "    [['520i', '528i', '530i', '520d', '523i','550i', '535i'], '5 Series'],\n",
    "    [['730Li', '740Li','750Li','730Ld','735IL'], '7 Series'],\n",
    "    [['218i'], '2 Series'],\n",
    "    [['640i'], '6 Series'],\n",
    "    [['840i'], '8 Series'],\n",
    "    [['430i','435i','428i','440i'], '4 Series'],\n",
    "    [['120i', '116i'], '1 Series'],\n",
    "    [['M850i'], 'M8'],\n",
    "    [['M135i'], 'M1'],\n",
    "    [['M235i'], 'M2'],\n",
    "    [['i8', 'i7'], 'iX']\n",
    "]\n",
    "\n",
    "# correcting BMW models\n",
    "for i in range(len(correcting_BMW)):\n",
    "    used_car['model'].replace(*correcting_BMW[i], inplace=True)"
   ]
  },
  {
   "cell_type": "code",
   "execution_count": 393,
   "metadata": {},
   "outputs": [
    {
     "data": {
      "text/plain": [
       "Index(['RX300', 'LX570', 'RX270', 'RX200t', 'LM350', 'NX200t', 'ES300h',\n",
       "       'NX300', 'RX350', 'UX200', 'LS500', 'LS460L', 'RX350h', 'LX600', 'RC',\n",
       "       'LS600hL', 'RX450h', 'IS250', 'GS300'],\n",
       "      dtype='object')"
      ]
     },
     "execution_count": 393,
     "metadata": {},
     "output_type": "execute_result"
    }
   ],
   "source": [
    "# check lexus models\n",
    "used_car[used_car.manufacturer == 'Lexus'][\"model\"].value_counts().index"
   ]
  },
  {
   "cell_type": "code",
   "execution_count": 394,
   "metadata": {},
   "outputs": [],
   "source": [
    "correcting_lexus = [\n",
    "    [['RX300','RX270', 'RX200t','RX350','RX350h','RX450h'], 'RX'],\n",
    "    [['LX570','LX600'], 'LX'],\n",
    "    [['LM350'], 'LM'],\n",
    "    [['NX200t', 'NX300'], 'NX'],\n",
    "    [['ES300h'], 'ES'],\n",
    "    [['UX200'], 'UX'],\n",
    "    [['LS500', 'LS460L','LS600hL'], 'LS'],\n",
    "    [['IS250'], 'IS'],\n",
    "    [['GS300'], 'GS']\n",
    "]\n",
    "\n",
    "# correcting lexus models\n",
    "for i in range(len(correcting_lexus)):\n",
    "    used_car['model'].replace(*correcting_lexus[i], inplace=True)"
   ]
  },
  {
   "cell_type": "code",
   "execution_count": 395,
   "metadata": {},
   "outputs": [
    {
     "data": {
      "text/plain": [
       "Index(['HR-V', 'Brio', 'CR-V', 'Mobilio', 'Jazz', 'BR-V', 'Civic', 'City',\n",
       "       'Freed', 'Accord', 'Odyssey', 'CR-Z', 'Stream', 'Elysion', 'S660',\n",
       "       'WR-V'],\n",
       "      dtype='object')"
      ]
     },
     "execution_count": 395,
     "metadata": {},
     "output_type": "execute_result"
    }
   ],
   "source": [
    "# check honda models\n",
    "used_car[used_car.manufacturer == 'Honda'][\"model\"].value_counts().index"
   ]
  },
  {
   "cell_type": "code",
   "execution_count": 396,
   "metadata": {},
   "outputs": [
    {
     "data": {
      "text/plain": [
       "Index(['Kijang', 'Avanza', 'Alphard', 'Fortuner', 'Yaris', 'Rush', 'Calya',\n",
       "       'Agya', 'Vellfire', 'Camry', 'Land', 'Sienta', 'Raize', 'Corolla',\n",
       "       'Voxy', 'Harrier', 'Innova', 'Vios', 'Veloz', 'Etios', 'Hilux', 'NAV1',\n",
       "       '86', 'Starlet', 'Limo', 'Crown', 'Hiace', 'Mark', 'Soluna', 'Dyna',\n",
       "       'C-HR', 'Supra', 'RAV4', 'IST', 'Hardtop', 'FJ', 'iQ', 'Corona',\n",
       "       'Celica', 'GR86', 'Wish', 'Previa', 'GranAce'],\n",
       "      dtype='object')"
      ]
     },
     "execution_count": 396,
     "metadata": {},
     "output_type": "execute_result"
    }
   ],
   "source": [
    "# check toyota models\n",
    "used_car[used_car.manufacturer == 'Toyota'][\"model\"].value_counts().index"
   ]
  },
  {
   "cell_type": "code",
   "execution_count": 397,
   "metadata": {},
   "outputs": [],
   "source": [
    "correcting_toyota = [\n",
    "    [['Land'], 'Land Cruiser'],\n",
    "    [['FJ'], 'FJ Cruiser']\n",
    "]\n",
    "\n",
    "# correcting toyota models\n",
    "for i in range(len(correcting_toyota)):\n",
    "    used_car['model'].replace(*correcting_toyota[i], inplace=True)"
   ]
  },
  {
   "cell_type": "code",
   "execution_count": 398,
   "metadata": {},
   "outputs": [
    {
     "data": {
      "text/plain": [
       "Index(['Ayla', 'Xenia', 'Terios', 'Sigra', 'Gran', 'Sirion', 'Rocky', 'Luxio',\n",
       "       'Taft', 'Taruna', 'Feroza', 'Charade', 'Zebra', 'YRV', 'Espass',\n",
       "       'Ceria'],\n",
       "      dtype='object')"
      ]
     },
     "execution_count": 398,
     "metadata": {},
     "output_type": "execute_result"
    }
   ],
   "source": [
    "# check daihatsu models\n",
    "used_car[used_car.manufacturer == 'Daihatsu'][\"model\"].value_counts().index"
   ]
  },
  {
   "cell_type": "code",
   "execution_count": 399,
   "metadata": {},
   "outputs": [],
   "source": [
    "# correcting daihatsu models\n",
    "used_car['model'].replace('Gran', 'Gran Max', inplace=True)"
   ]
  },
  {
   "cell_type": "code",
   "execution_count": 400,
   "metadata": {},
   "outputs": [
    {
     "data": {
      "text/plain": [
       "Index(['Xpander', 'Pajero', 'Outlander', 'Colt', 'Mirage', 'Eclipse', 'Triton',\n",
       "       'Lancer', 'Galant', 'Kuda', 'Strada', 'Eterna', 'Fuso', 'Delica',\n",
       "       'Maven'],\n",
       "      dtype='object')"
      ]
     },
     "execution_count": 400,
     "metadata": {},
     "output_type": "execute_result"
    }
   ],
   "source": [
    "# check mithubishi models\n",
    "used_car[used_car.manufacturer == 'Mitsubishi'][\"model\"].value_counts().index"
   ]
  },
  {
   "cell_type": "code",
   "execution_count": 401,
   "metadata": {},
   "outputs": [
    {
     "data": {
      "text/plain": [
       "Index(['Palisade', 'Creta', 'H-1', 'Santa', 'Stargazer', 'Tucson', 'IONIQ',\n",
       "       'Avega', 'Staria', 'Atoz', 'Trajet', 'i20', 'Grand Vitara', 'Kona',\n",
       "       'Getz', 'Sonata'],\n",
       "      dtype='object')"
      ]
     },
     "execution_count": 401,
     "metadata": {},
     "output_type": "execute_result"
    }
   ],
   "source": [
    "# check mithubishi models\n",
    "used_car[used_car.manufacturer == 'Hyundai'][\"model\"].value_counts().index"
   ]
  },
  {
   "cell_type": "code",
   "execution_count": 402,
   "metadata": {},
   "outputs": [
    {
     "name": "stderr",
     "output_type": "stream",
     "text": [
      "C:\\Users\\Acer\\Anaconda3\\lib\\site-packages\\pandas\\core\\indexing.py:1732: SettingWithCopyWarning: \n",
      "A value is trying to be set on a copy of a slice from a DataFrame\n",
      "\n",
      "See the caveats in the documentation: https://pandas.pydata.org/pandas-docs/stable/user_guide/indexing.html#returning-a-view-versus-a-copy\n",
      "  self._setitem_single_block(indexer, value, name)\n"
     ]
    }
   ],
   "source": [
    "# correcting hyundai models\n",
    "mist_list = list(used_car[(used_car.manufacturer=='Hyundai') & (used_car.model == 'Grand Vitara')].index)\n",
    "for i in mist_list:\n",
    "    used_car['model'].iloc[i] = 'Grand Avega'\n",
    "used_car['model'].replace('Santa', 'Santa Fe', inplace=True)"
   ]
  },
  {
   "cell_type": "code",
   "execution_count": 403,
   "metadata": {
    "scrolled": true
   },
   "outputs": [
    {
     "data": {
      "text/plain": [
       "Index(['Captiva', 'Trax', 'Spin', 'Trailblazer', 'Orlando', 'Aveo', 'Spark',\n",
       "       'Colorado', 'Camaro', 'Blazer', 'Estate', 'Optra'],\n",
       "      dtype='object')"
      ]
     },
     "execution_count": 403,
     "metadata": {},
     "output_type": "execute_result"
    }
   ],
   "source": [
    "# check chevrolet models\n",
    "used_car[used_car.manufacturer == 'Chevrolet'][\"model\"].value_counts().index"
   ]
  },
  {
   "cell_type": "code",
   "execution_count": 404,
   "metadata": {
    "scrolled": true
   },
   "outputs": [
    {
     "data": {
      "text/plain": [
       "Index(['C200', 'E300', 'C250', 'E250', 'CLA200', 'GLA200', 'C300', 'GLC200',\n",
       "       'S400', 'S450',\n",
       "       ...\n",
       "       'CL500', '220E', '230E', 'ML320', 'C320', 'CLS500', 'E53', 'SLC200',\n",
       "       'SL400', 'SLK300'],\n",
       "      dtype='object', length=102)"
      ]
     },
     "execution_count": 404,
     "metadata": {},
     "output_type": "execute_result"
    }
   ],
   "source": [
    "# check mercedes-benz models\n",
    "# pd.set_option('display.max_columns', None)\n",
    "# pd.set_option('display.max_rows', None)\n",
    "used_car[used_car.manufacturer == 'Mercedes-Benz']['model'].value_counts().index"
   ]
  },
  {
   "cell_type": "code",
   "execution_count": 405,
   "metadata": {},
   "outputs": [],
   "source": [
    "import re\n",
    "pattern = \"^[A-Za-z]+\"\n",
    "p = re.compile(pattern)\n",
    "\n",
    "merc_list = list(used_car[used_car.manufacturer == 'Mercedes-Benz'].index)\n",
    "for i in merc_list:\n",
    "    con = used_car['model'].iloc[i]\n",
    "    new_model = p.findall(con)\n",
    "    if len(new_model):\n",
    "        used_car['model'].iloc[i] = p.findall(con)[0]\n",
    "    else:\n",
    "        pass"
   ]
  },
  {
   "cell_type": "code",
   "execution_count": 406,
   "metadata": {},
   "outputs": [
    {
     "data": {
      "text/plain": [
       "Index(['CX-5', '2', 'Biante', 'CX-3', 'CX-9', '6', '3', 'CX-7', '8', 'CX-8',\n",
       "       'RX-8', '5', 'CX-30', 'MX-5', 'E2000', '323'],\n",
       "      dtype='object')"
      ]
     },
     "execution_count": 406,
     "metadata": {},
     "output_type": "execute_result"
    }
   ],
   "source": [
    "# check mazda models\n",
    "used_car[used_car.manufacturer == 'Mazda']['model'].value_counts().index"
   ]
  },
  {
   "cell_type": "code",
   "execution_count": 407,
   "metadata": {},
   "outputs": [
    {
     "data": {
      "text/plain": [
       "Index(['Almaz', 'Confero', 'Cortez', 'EV', 'Formo', 'Alvez'], dtype='object')"
      ]
     },
     "execution_count": 407,
     "metadata": {},
     "output_type": "execute_result"
    }
   ],
   "source": [
    "# check wuling models\n",
    "used_car[used_car.manufacturer == 'Wuling']['model'].value_counts().index"
   ]
  },
  {
   "cell_type": "code",
   "execution_count": 408,
   "metadata": {},
   "outputs": [],
   "source": [
    "# correcting wuling models\n",
    "used_car['model'].replace('EV', 'EV Air', inplace=True)"
   ]
  },
  {
   "cell_type": "code",
   "execution_count": 409,
   "metadata": {},
   "outputs": [
    {
     "data": {
      "text/plain": [
       "Index(['Grand Vitara', 'X-Trail', 'Serena', 'March', 'Livina', 'Juke',\n",
       "       'Elgrand', 'Teana', 'Terra', 'Navara', 'Evalia', 'Terrano', 'Latio',\n",
       "       'Kicks', 'Leaf', 'Cefiro', '370Z', 'Patrol'],\n",
       "      dtype='object')"
      ]
     },
     "execution_count": 409,
     "metadata": {},
     "output_type": "execute_result"
    }
   ],
   "source": [
    "# check nissan models\n",
    "used_car[used_car.manufacturer == 'Nissan']['model'].value_counts().index"
   ]
  },
  {
   "cell_type": "code",
   "execution_count": 410,
   "metadata": {},
   "outputs": [],
   "source": [
    "# correcting nissan models\n",
    "nis_list = list(used_car[(used_car.manufacturer=='Nissan') & (used_car.model == 'Grand Vitara')].index)\n",
    "for i in nis_list:\n",
    "    used_car['model'].iloc[i] = 'Grand Livina'"
   ]
  },
  {
   "cell_type": "code",
   "execution_count": 411,
   "metadata": {},
   "outputs": [
    {
     "data": {
      "text/plain": [
       "Index(['Panther', 'Elf', 'Pickup', 'MU-X', 'Traga', 'D-Max', 'Giga', 'Trooper',\n",
       "       'MU-7'],\n",
       "      dtype='object')"
      ]
     },
     "execution_count": 411,
     "metadata": {},
     "output_type": "execute_result"
    }
   ],
   "source": [
    "# check isuzu models\n",
    "used_car[used_car.manufacturer == 'Isuzu']['model'].value_counts().index"
   ]
  },
  {
   "cell_type": "code",
   "execution_count": 412,
   "metadata": {},
   "outputs": [
    {
     "data": {
      "text/plain": [
       "Index(['Tiguan', 'Scirocco', 'Golf', 'Polo', 'Caravelle', 'Touareg', 'Touran',\n",
       "       'New'],\n",
       "      dtype='object')"
      ]
     },
     "execution_count": 412,
     "metadata": {},
     "output_type": "execute_result"
    }
   ],
   "source": [
    "# check volkswager models\n",
    "used_car[used_car.manufacturer == 'Volkswagen']['model'].value_counts().index"
   ]
  },
  {
   "cell_type": "code",
   "execution_count": 413,
   "metadata": {},
   "outputs": [],
   "source": [
    "# correcting volkswagen models\n",
    "used_car['model'].replace('New', 'New Beetle', inplace=True)"
   ]
  },
  {
   "cell_type": "code",
   "execution_count": 414,
   "metadata": {},
   "outputs": [
    {
     "data": {
      "text/plain": [
       "Index(['A4', 'Q3', 'A6', 'Q7', 'A5', 'RS5', 'Q5', 'A8', 'A3', 'TT', 'R8'], dtype='object')"
      ]
     },
     "execution_count": 414,
     "metadata": {},
     "output_type": "execute_result"
    }
   ],
   "source": [
    "# check audi models\n",
    "used_car[used_car.manufacturer == 'Audi']['model'].value_counts().index"
   ]
  },
  {
   "cell_type": "code",
   "execution_count": 415,
   "metadata": {},
   "outputs": [
    {
     "data": {
      "text/plain": [
       "Index(['Wrangler', '4.0', 'Cherokee', 'Compass', 'Patriot', 'Grand Vitara',\n",
       "       'Gladiator'],\n",
       "      dtype='object')"
      ]
     },
     "execution_count": 415,
     "metadata": {},
     "output_type": "execute_result"
    }
   ],
   "source": [
    "# check jeep models\n",
    "used_car[used_car.manufacturer == 'Jeep']['model'].value_counts().index"
   ]
  },
  {
   "cell_type": "code",
   "execution_count": 416,
   "metadata": {},
   "outputs": [],
   "source": [
    "# correcting jeep models\n",
    "# 4.0, Grand Vitara to Cherokee\n",
    "used_car['model'].replace('4.0', 'Cherokee', inplace=True)\n",
    "jeep_list = list(used_car[(used_car.manufacturer=='Jeep') & (used_car.model == 'Grand Vitara')].index)\n",
    "for i in jeep_list:\n",
    "    used_car['model'].iloc[i] = 'Cherokee'"
   ]
  },
  {
   "cell_type": "code",
   "execution_count": 417,
   "metadata": {},
   "outputs": [
    {
     "data": {
      "text/plain": [
       "Index(['WRX', 'XV', 'Impreza', 'Legacy', 'BRZ', 'Forester', 'Outback'], dtype='object')"
      ]
     },
     "execution_count": 417,
     "metadata": {},
     "output_type": "execute_result"
    }
   ],
   "source": [
    "# check subaru models\n",
    "used_car[used_car.manufacturer == 'Subaru']['model'].value_counts().index"
   ]
  },
  {
   "cell_type": "code",
   "execution_count": 418,
   "metadata": {},
   "outputs": [
    {
     "data": {
      "text/plain": [
       "Index(['Rover'], dtype='object')"
      ]
     },
     "execution_count": 418,
     "metadata": {},
     "output_type": "execute_result"
    }
   ],
   "source": [
    "# check land rover models\n",
    "used_car[used_car.manufacturer == 'Land Rover']['model'].value_counts().index"
   ]
  },
  {
   "cell_type": "code",
   "execution_count": 419,
   "metadata": {},
   "outputs": [],
   "source": [
    "# correcting hyundai models\n",
    "land_list = list(used_car[(used_car.manufacturer=='Land Rover') & (used_car.model == 'Rover')].index)\n",
    "for i in land_list:\n",
    "    used_car['model'].iloc[i] = used_car['desc'].iloc[i].split()[3]\n",
    "used_car['model'].replace('Range', 'Range Rover', inplace=True)"
   ]
  },
  {
   "cell_type": "code",
   "execution_count": 420,
   "metadata": {},
   "outputs": [
    {
     "data": {
      "text/plain": [
       "Index(['Range Rover', 'Defender', 'Discovery'], dtype='object')"
      ]
     },
     "execution_count": 420,
     "metadata": {},
     "output_type": "execute_result"
    }
   ],
   "source": [
    "# check land rover models\n",
    "used_car[used_car.manufacturer == 'Land Rover']['model'].value_counts().index"
   ]
  },
  {
   "cell_type": "code",
   "execution_count": 421,
   "metadata": {},
   "outputs": [
    {
     "data": {
      "text/plain": [
       "Index(['GO+', 'Cross', 'GO'], dtype='object')"
      ]
     },
     "execution_count": 421,
     "metadata": {},
     "output_type": "execute_result"
    }
   ],
   "source": [
    "# check Datsun models\n",
    "used_car[used_car.manufacturer == 'Datsun']['model'].value_counts().index"
   ]
  },
  {
   "cell_type": "code",
   "execution_count": 422,
   "metadata": {},
   "outputs": [
    {
     "data": {
      "text/plain": [
       "Index(['California', '458', 'F430', '488', 'Roma', 'F12berlinetta', 'FF'], dtype='object')"
      ]
     },
     "execution_count": 422,
     "metadata": {},
     "output_type": "execute_result"
    }
   ],
   "source": [
    "# check ferrari models\n",
    "used_car[used_car.manufacturer == 'Ferrari']['model'].value_counts().index"
   ]
  },
  {
   "cell_type": "code",
   "execution_count": 423,
   "metadata": {},
   "outputs": [],
   "source": [
    "# correcting ferrari models\n",
    "# F12berlinetta to F12\n",
    "used_car['model'].replace('F12berlinetta', 'F12', inplace=True)"
   ]
  },
  {
   "cell_type": "code",
   "execution_count": 424,
   "metadata": {},
   "outputs": [
    {
     "data": {
      "text/plain": [
       "Index(['Cooper', 'Countryman', 'Cabrio', 'Clubman', 'Paceman', '1.6',\n",
       "       'Morris'],\n",
       "      dtype='object')"
      ]
     },
     "execution_count": 424,
     "metadata": {},
     "output_type": "execute_result"
    }
   ],
   "source": [
    "# check mini models\n",
    "used_car[used_car.manufacturer == 'MINI']['model'].value_counts().index"
   ]
  },
  {
   "cell_type": "code",
   "execution_count": 425,
   "metadata": {},
   "outputs": [],
   "source": [
    "# correcting mini models\n",
    "# 1.6 to John Cooper\n",
    "used_car['model'].replace('1.6', 'John Cooper', inplace=True)"
   ]
  },
  {
   "cell_type": "code",
   "execution_count": 426,
   "metadata": {},
   "outputs": [
    {
     "data": {
      "text/plain": [
       "Index(['Picanto', 'Rio', 'Sportage', 'Sorento', 'Grand Vitara', 'Sonet',\n",
       "       'Seltos', 'Visto', 'Pride', 'Carens', 'Carnival', 'EV6', 'Pregio'],\n",
       "      dtype='object')"
      ]
     },
     "execution_count": 426,
     "metadata": {},
     "output_type": "execute_result"
    }
   ],
   "source": [
    "# check KIA models\n",
    "used_car[used_car.manufacturer == 'KIA']['model'].value_counts().index"
   ]
  },
  {
   "cell_type": "code",
   "execution_count": 427,
   "metadata": {},
   "outputs": [],
   "source": [
    "# correcting KIA models\n",
    "kia_list = list(used_car[(used_car.manufacturer=='KIA') & (used_car.model == 'Grand Vitara')].index)\n",
    "for i in kia_list:\n",
    "    kia_model = used_car['desc'].iloc[i].split()[2:4]\n",
    "    used_car['model'].iloc[i] = ' '.join(kia_model)"
   ]
  },
  {
   "cell_type": "code",
   "execution_count": 428,
   "metadata": {},
   "outputs": [
    {
     "data": {
      "text/plain": [
       "Index(['S-515'], dtype='object')"
      ]
     },
     "execution_count": 428,
     "metadata": {},
     "output_type": "execute_result"
    }
   ],
   "source": [
    "# check timor models\n",
    "used_car[used_car.manufacturer == 'Timor']['model'].value_counts().index"
   ]
  },
  {
   "cell_type": "code",
   "execution_count": 429,
   "metadata": {},
   "outputs": [
    {
     "data": {
      "text/plain": [
       "Index(['Exora'], dtype='object')"
      ]
     },
     "execution_count": 429,
     "metadata": {},
     "output_type": "execute_result"
    }
   ],
   "source": [
    "# check proton models\n",
    "used_car[used_car.manufacturer == 'Proton']['model'].value_counts().index"
   ]
  },
  {
   "cell_type": "code",
   "execution_count": 430,
   "metadata": {},
   "outputs": [
    {
     "data": {
      "text/plain": [
       "Index(['Fiesta', 'Mustang', 'EcoSport', 'Escape', 'Everest', 'Ranger',\n",
       "       'Focus'],\n",
       "      dtype='object')"
      ]
     },
     "execution_count": 430,
     "metadata": {},
     "output_type": "execute_result"
    }
   ],
   "source": [
    "# check ford models\n",
    "used_car[used_car.manufacturer == 'Ford']['model'].value_counts().index"
   ]
  },
  {
   "cell_type": "code",
   "execution_count": 431,
   "metadata": {},
   "outputs": [
    {
     "data": {
      "text/plain": [
       "Index(['Ghibli', 'GranTurismo', 'Levante', 'Quattroporte'], dtype='object')"
      ]
     },
     "execution_count": 431,
     "metadata": {},
     "output_type": "execute_result"
    }
   ],
   "source": [
    "# check maserati models\n",
    "used_car[used_car.manufacturer == 'Maserati']['model'].value_counts().index"
   ]
  },
  {
   "cell_type": "code",
   "execution_count": 432,
   "metadata": {
    "scrolled": true
   },
   "outputs": [
    {
     "data": {
      "text/plain": [
       "Index(['Glory', 'Super'], dtype='object')"
      ]
     },
     "execution_count": 432,
     "metadata": {},
     "output_type": "execute_result"
    }
   ],
   "source": [
    "# check DFSK models\n",
    "used_car[used_car.manufacturer == 'DFSK']['model'].value_counts().index"
   ]
  },
  {
   "cell_type": "code",
   "execution_count": 433,
   "metadata": {},
   "outputs": [],
   "source": [
    "# correcting DFSK models\n",
    "used_car['model'].replace('Super', 'Super Cab', inplace=True)"
   ]
  },
  {
   "cell_type": "code",
   "execution_count": 434,
   "metadata": {},
   "outputs": [
    {
     "data": {
      "text/plain": [
       "Index(['Cayman', 'Macan', '911', 'Cayenne', 'Panamera', '718', 'Boxster',\n",
       "       'Taycan'],\n",
       "      dtype='object')"
      ]
     },
     "execution_count": 434,
     "metadata": {},
     "output_type": "execute_result"
    }
   ],
   "source": [
    "# check porsche models\n",
    "used_car[used_car.manufacturer == 'Porsche']['model'].value_counts().index"
   ]
  },
  {
   "cell_type": "code",
   "execution_count": 435,
   "metadata": {},
   "outputs": [
    {
     "data": {
      "text/plain": [
       "Index(['H3', 'H2'], dtype='object')"
      ]
     },
     "execution_count": 435,
     "metadata": {},
     "output_type": "execute_result"
    }
   ],
   "source": [
    "# check hummmer models\n",
    "used_car[used_car.manufacturer == 'Hummer']['model'].value_counts().index"
   ]
  },
  {
   "cell_type": "code",
   "execution_count": 436,
   "metadata": {},
   "outputs": [
    {
     "data": {
      "text/plain": [
       "Index(['XF', 'XJ', 'X-Type', 'XE', 'F-Type', 'XJ8', 'F-Pace', 'XJ6', 'S-Type'], dtype='object')"
      ]
     },
     "execution_count": 436,
     "metadata": {},
     "output_type": "execute_result"
    }
   ],
   "source": [
    "# check jaguar models\n",
    "used_car[used_car.manufacturer == 'Jaguar']['model'].value_counts().index"
   ]
  },
  {
   "cell_type": "code",
   "execution_count": 437,
   "metadata": {},
   "outputs": [],
   "source": [
    "# correcting jaguar models\n",
    "used_car['model'].replace(['XF', 'XJ', 'XE', 'XJ8', 'XJ6'], 'X-Type', inplace=True)"
   ]
  },
  {
   "cell_type": "code",
   "execution_count": 438,
   "metadata": {},
   "outputs": [
    {
     "data": {
      "text/plain": [
       "Index(['S60', 'S40', 'S90', 'XC90', 'S80'], dtype='object')"
      ]
     },
     "execution_count": 438,
     "metadata": {},
     "output_type": "execute_result"
    }
   ],
   "source": [
    "# check volvo models\n",
    "used_car[used_car.manufacturer == 'Volvo']['model'].value_counts().index"
   ]
  },
  {
   "cell_type": "code",
   "execution_count": 439,
   "metadata": {},
   "outputs": [],
   "source": [
    "# correcting volvo models\n",
    "used_car['model'].replace(['S60', 'S40', 'S90', 'S80'], 'S', inplace=True)\n",
    "used_car['model'].replace('XC90', 'XC', inplace=True)"
   ]
  },
  {
   "cell_type": "code",
   "execution_count": 440,
   "metadata": {},
   "outputs": [
    {
     "data": {
      "text/plain": [
       "S650    1\n",
       "Name: model, dtype: int64"
      ]
     },
     "execution_count": 440,
     "metadata": {},
     "output_type": "execute_result"
    }
   ],
   "source": [
    "# check mercedes-maybach models\n",
    "used_car[used_car.manufacturer == 'Mercedes-Maybach']['model'].value_counts()"
   ]
  },
  {
   "cell_type": "code",
   "execution_count": 441,
   "metadata": {},
   "outputs": [],
   "source": [
    "# joining mercedes brands\n",
    "used_car['manufacturer'].replace(['Mercedes-Maybach', 'Mercedes-Benz'], 'Mercedes', inplace=True)"
   ]
  },
  {
   "cell_type": "code",
   "execution_count": 442,
   "metadata": {
    "scrolled": true
   },
   "outputs": [
    {
     "data": {
      "text/plain": [
       "Index(['Continental', 'Bentayga'], dtype='object')"
      ]
     },
     "execution_count": 442,
     "metadata": {},
     "output_type": "execute_result"
    }
   ],
   "source": [
    "# check bentley models\n",
    "used_car[used_car.manufacturer == 'Bentley']['model'].value_counts().index"
   ]
  },
  {
   "cell_type": "code",
   "execution_count": 443,
   "metadata": {},
   "outputs": [],
   "source": [
    "# correcting bentley models\n",
    "used_car['model'].replace('Continental', 'Continental GT', inplace=True)"
   ]
  },
  {
   "cell_type": "code",
   "execution_count": 444,
   "metadata": {},
   "outputs": [
    {
     "data": {
      "text/plain": [
       "Index(['Dutro'], dtype='object')"
      ]
     },
     "execution_count": 444,
     "metadata": {},
     "output_type": "execute_result"
    }
   ],
   "source": [
    "# check hino models\n",
    "used_car[used_car.manufacturer == 'Hino']['model'].value_counts().index"
   ]
  },
  {
   "cell_type": "code",
   "execution_count": 445,
   "metadata": {},
   "outputs": [
    {
     "data": {
      "text/plain": [
       "Index(['fortwo', 'Smart'], dtype='object')"
      ]
     },
     "execution_count": 445,
     "metadata": {},
     "output_type": "execute_result"
    }
   ],
   "source": [
    "# check smart fortwo models\n",
    "used_car[used_car.manufacturer == 'Smart Fortwo']['model'].value_counts().index"
   ]
  },
  {
   "cell_type": "code",
   "execution_count": 446,
   "metadata": {},
   "outputs": [],
   "source": [
    "# correcting smart fortwo models\n",
    "used_car['model'].replace('fortwo', '1.0', inplace=True)\n",
    "used_car['model'].replace('Smart', 'Mhd', inplace=True)"
   ]
  },
  {
   "cell_type": "code",
   "execution_count": 447,
   "metadata": {},
   "outputs": [
    {
     "data": {
      "text/plain": [
       "Index(['3008', '5008', '406', '307', 'RCZ', '206', '408', '405', '807', '207'], dtype='object')"
      ]
     },
     "execution_count": 447,
     "metadata": {},
     "output_type": "execute_result"
    }
   ],
   "source": [
    "# check pugeot models\n",
    "used_car[used_car.manufacturer == 'Peugeot']['model'].value_counts().index"
   ]
  },
  {
   "cell_type": "code",
   "execution_count": 448,
   "metadata": {},
   "outputs": [
    {
     "data": {
      "text/plain": [
       "Index(['Triber', 'Koleos', 'Kwid'], dtype='object')"
      ]
     },
     "execution_count": 448,
     "metadata": {},
     "output_type": "execute_result"
    }
   ],
   "source": [
    "# check renault models\n",
    "used_car[used_car.manufacturer == 'Renault']['model'].value_counts().index"
   ]
  },
  {
   "cell_type": "code",
   "execution_count": 449,
   "metadata": {},
   "outputs": [
    {
     "data": {
      "text/plain": [
       "Index(['Model'], dtype='object')"
      ]
     },
     "execution_count": 449,
     "metadata": {},
     "output_type": "execute_result"
    }
   ],
   "source": [
    "# check tesla models\n",
    "used_car[used_car.manufacturer == 'Tesla']['model'].value_counts().index"
   ]
  },
  {
   "cell_type": "code",
   "execution_count": 450,
   "metadata": {},
   "outputs": [],
   "source": [
    "# correcting tesla model\n",
    "tesla_list = list(used_car[(used_car.manufacturer=='Tesla') & (used_car.model == 'Model')].index)\n",
    "for i in tesla_list:\n",
    "    tesla_model = used_car['desc'].iloc[i].split()[2:4]\n",
    "    used_car['model'].iloc[i] = ' '.join(tesla_model)"
   ]
  },
  {
   "cell_type": "code",
   "execution_count": 641,
   "metadata": {},
   "outputs": [],
   "source": [
    "# drop car manufacturer which less than 10 car's data available.\n",
    "poor_data_cars = list(used_car.manufacturer.value_counts()[used_car.manufacturer.value_counts()<10].index)\n",
    "used_car2 = used_car[used_car.manufacturer.isin(poor_data_cars) == False].copy()"
   ]
  },
  {
   "cell_type": "code",
   "execution_count": 642,
   "metadata": {},
   "outputs": [],
   "source": [
    "used_car2.reset_index(drop=True, inplace=True)"
   ]
  },
  {
   "cell_type": "markdown",
   "metadata": {},
   "source": [
    "#### column : classification"
   ]
  },
  {
   "cell_type": "code",
   "execution_count": 643,
   "metadata": {},
   "outputs": [],
   "source": [
    "car_classifications = [\n",
    "    \"Sedan\",\n",
    "    \"SUV\",\n",
    "    \"Truck\",\n",
    "    \"Trucks\",\n",
    "    \"Coupe\",\n",
    "    \"Hatchback\",\n",
    "    \"Wagon\",\n",
    "    \"Convertible\",\n",
    "    \"Minivan\",\n",
    "    \"MPV\",\n",
    "    \"Van\",\n",
    "    \"Crossover\",\n",
    "    \"Pick-up\",\n",
    "    \"Fastback\",\n",
    "    \"Minibus\",\n",
    "    \"Pick\",\n",
    "    \"Cabriolet\",\n",
    "    \"Sportback\"\n",
    "]"
   ]
  },
  {
   "cell_type": "code",
   "execution_count": 644,
   "metadata": {},
   "outputs": [
    {
     "name": "stderr",
     "output_type": "stream",
     "text": [
      "C:\\Users\\Acer\\Anaconda3\\lib\\site-packages\\pandas\\core\\indexing.py:1732: SettingWithCopyWarning: \n",
      "A value is trying to be set on a copy of a slice from a DataFrame\n",
      "\n",
      "See the caveats in the documentation: https://pandas.pydata.org/pandas-docs/stable/user_guide/indexing.html#returning-a-view-versus-a-copy\n",
      "  self._setitem_single_block(indexer, value, name)\n"
     ]
    }
   ],
   "source": [
    "used_car2['classification'] = 'Unknown'\n",
    "for i in range(len(used_car2)):\n",
    "    for item in used_car2.desc[i].split():\n",
    "        if item in car_classifications:\n",
    "            used_car2['classification'].iloc[i] = item"
   ]
  },
  {
   "cell_type": "code",
   "execution_count": 645,
   "metadata": {},
   "outputs": [
    {
     "data": {
      "text/plain": [
       "SUV            3700\n",
       "MPV            2694\n",
       "Hatchback      2088\n",
       "Sedan          1955\n",
       "Wagon          1839\n",
       "Coupe           438\n",
       "Unknown         129\n",
       "Pick-up         128\n",
       "Convertible     103\n",
       "Van              91\n",
       "Trucks           21\n",
       "Fastback         17\n",
       "Cabriolet        17\n",
       "Sportback         6\n",
       "Pick              5\n",
       "Minibus           5\n",
       "Truck             4\n",
       "Name: classification, dtype: int64"
      ]
     },
     "execution_count": 645,
     "metadata": {},
     "output_type": "execute_result"
    }
   ],
   "source": [
    "used_car2.classification.value_counts()"
   ]
  },
  {
   "cell_type": "code",
   "execution_count": 646,
   "metadata": {},
   "outputs": [],
   "source": [
    "# correcting yaris classification\n",
    "yaris_list = list(used_car2[used_car2.model == 'Yaris'].index)\n",
    "for i in yaris_list:\n",
    "    used_car2['classification'].iloc[i] = 'Hatchback'"
   ]
  },
  {
   "cell_type": "code",
   "execution_count": 647,
   "metadata": {},
   "outputs": [],
   "source": [
    "# correcting jazz classification\n",
    "jazz_list = list(used_car2[used_car2.model == 'Jazz'].index)\n",
    "for i in jazz_list:\n",
    "    used_car2['classification'].iloc[i] = 'Hatchback'"
   ]
  },
  {
   "cell_type": "code",
   "execution_count": 648,
   "metadata": {},
   "outputs": [],
   "source": [
    "# correcting cherokee classification\n",
    "cherokee_list = list(used_car2[used_car2.model == 'Cherokee'].index)\n",
    "for i in cherokee_list:\n",
    "    used_car2['classification'].iloc[i] = 'SUV'"
   ]
  },
  {
   "cell_type": "code",
   "execution_count": 649,
   "metadata": {},
   "outputs": [],
   "source": [
    "# correcting taft classification\n",
    "taft_list = list(used_car2[used_car2.model == 'Taft'].index)\n",
    "for i in taft_list:\n",
    "    used_car2['classification'].iloc[i] = 'Jeep'"
   ]
  },
  {
   "cell_type": "code",
   "execution_count": 650,
   "metadata": {
    "scrolled": true
   },
   "outputs": [],
   "source": [
    "# correcting jimny classification\n",
    "jimny_list = list(used_car2[(used_car2.model == 'Jimny') & (used_car2.classification == 'Unknown')].index)\n",
    "for i in jimny_list:\n",
    "    used_car2['classification'].iloc[i] = 'Jeep'"
   ]
  },
  {
   "cell_type": "code",
   "execution_count": 651,
   "metadata": {},
   "outputs": [],
   "source": [
    "# correcting range rover classification\n",
    "range_r_list = list(used_car2[used_car2.model == 'Range Rover'].index)\n",
    "for i in range_r_list:\n",
    "    used_car2['classification'].iloc[i] = 'SUV'"
   ]
  },
  {
   "cell_type": "code",
   "execution_count": 652,
   "metadata": {},
   "outputs": [],
   "source": [
    "# correcting kijang model\n",
    "kijang_list = list(used_car2[(used_car2.manufacturer=='Toyota') & (used_car2.model == 'Kijang')].index)\n",
    "for i in kijang_list:\n",
    "    kijang_model = used_car2['desc'].iloc[i].split()[2:4]\n",
    "    used_car2['model'].iloc[i] = ' '.join(kijang_model)"
   ]
  },
  {
   "cell_type": "code",
   "execution_count": 653,
   "metadata": {},
   "outputs": [],
   "source": [
    "jeep_list = list(used_car2[(used_car2.manufacturer!='Jeep') & (used_car2.classification == 'Unknown')].index)\n",
    "\n",
    "for i in jeep_list:\n",
    "    for item in used_car2.desc[i].split():\n",
    "        if item in ['Jeep']:\n",
    "            used_car2['classification'].iloc[i] = 'Jeep'"
   ]
  },
  {
   "cell_type": "code",
   "execution_count": 654,
   "metadata": {
    "scrolled": true
   },
   "outputs": [],
   "source": [
    "colt_list = list(used_car2[(used_car2.model =='Colt') & (used_car2.classification == 'Unknown')].index)\n",
    "for i in colt_list:\n",
    "    used_car2['classification'].iloc[i] = 'Pick-up'"
   ]
  },
  {
   "cell_type": "code",
   "execution_count": 655,
   "metadata": {},
   "outputs": [],
   "source": [
    "pajero_list = list(used_car2[(used_car2.model =='Pajero') & (used_car2.classification == 'Unknown')].index)\n",
    "for i in pajero_list:\n",
    "    used_car2['classification'].iloc[i] = 'SUV'"
   ]
  },
  {
   "cell_type": "code",
   "execution_count": 656,
   "metadata": {},
   "outputs": [],
   "source": [
    "kijang_list = list(used_car2[(used_car2.model =='Kijang Innova') & (used_car2.classification == 'Unknown')].index)\n",
    "for i in kijang_list:\n",
    "    used_car2['classification'].iloc[i] = 'MPV'"
   ]
  },
  {
   "cell_type": "code",
   "execution_count": 657,
   "metadata": {},
   "outputs": [],
   "source": [
    "xpander_list = list(used_car2[(used_car2.model =='Xpander') & (used_car2.classification == 'Unknown')].index)\n",
    "for i in xpander_list:\n",
    "    used_car2['classification'].iloc[i] = 'MPV'"
   ]
  },
  {
   "cell_type": "code",
   "execution_count": 658,
   "metadata": {},
   "outputs": [],
   "source": [
    "cruiser_list = list(used_car2[(used_car2.model =='Land Cruiser') & (used_car2.classification == 'Unknown')].index)\n",
    "for i in cruiser_list:\n",
    "    used_car2['classification'].iloc[i] = 'SUV'"
   ]
  },
  {
   "cell_type": "code",
   "execution_count": 659,
   "metadata": {},
   "outputs": [],
   "source": [
    "mini_list = list(used_car2[(used_car2.model =='Morris') & (used_car2.classification == 'Unknown')].index)\n",
    "for i in mini_list:\n",
    "    used_car2['classification'].iloc[i] = 'Hatchback'"
   ]
  },
  {
   "cell_type": "code",
   "execution_count": 660,
   "metadata": {},
   "outputs": [],
   "source": [
    "smart_list = list(used_car2[(used_car2.manufacturer =='Smart Fortwo')].index)\n",
    "for i in smart_list:\n",
    "    used_car2['classification'].iloc[i] = 'Coupe'"
   ]
  },
  {
   "cell_type": "code",
   "execution_count": 661,
   "metadata": {},
   "outputs": [],
   "source": [
    "clk_list = list(used_car2[(used_car2.model =='CLK') & (used_car2.classification == 'Unknown')].index)\n",
    "for i in clk_list:\n",
    "    used_car2['classification'].iloc[i] = 'Coupe'"
   ]
  },
  {
   "cell_type": "code",
   "execution_count": 662,
   "metadata": {},
   "outputs": [],
   "source": [
    "clk_list = list(used_car2[(used_car2.model =='Defender') & (used_car2.classification == 'Unknown')].index)\n",
    "for i in clk_list:\n",
    "    used_car2['classification'].iloc[i] = 'SUV'"
   ]
  },
  {
   "cell_type": "code",
   "execution_count": 663,
   "metadata": {},
   "outputs": [],
   "source": [
    "clk_list = list(used_car2[(used_car2.model =='Unimog') & (used_car2.classification == 'Unknown')].index)\n",
    "for i in clk_list:\n",
    "    used_car2['classification'].iloc[i] = 'Truck'"
   ]
  },
  {
   "cell_type": "code",
   "execution_count": 664,
   "metadata": {},
   "outputs": [],
   "source": [
    "clk_list = list(used_car2[(used_car2.model =='300CE') & (used_car2.classification == 'Unknown')].index)\n",
    "for i in clk_list:\n",
    "    used_car2['classification'].iloc[i] = 'Coupe'"
   ]
  },
  {
   "cell_type": "code",
   "execution_count": 665,
   "metadata": {},
   "outputs": [],
   "source": [
    "clk_list = list(used_car2[(used_car2.model =='Odyssey') & (used_car2.classification == 'Unknown')].index)\n",
    "for i in clk_list:\n",
    "    used_car2['classification'].iloc[i] = 'MPV'"
   ]
  },
  {
   "cell_type": "code",
   "execution_count": 666,
   "metadata": {},
   "outputs": [
    {
     "data": {
      "text/plain": [
       "SUV            3765\n",
       "MPV            2711\n",
       "Hatchback      2097\n",
       "Sedan          1955\n",
       "Wagon          1838\n",
       "Coupe           440\n",
       "Pick-up         130\n",
       "Convertible     103\n",
       "Van              91\n",
       "Jeep             35\n",
       "Trucks           21\n",
       "Fastback         17\n",
       "Cabriolet        16\n",
       "Sportback         6\n",
       "Pick              5\n",
       "Minibus           5\n",
       "Truck             5\n",
       "Name: classification, dtype: int64"
      ]
     },
     "execution_count": 666,
     "metadata": {},
     "output_type": "execute_result"
    }
   ],
   "source": [
    "used_car2['classification'].value_counts()"
   ]
  },
  {
   "cell_type": "code",
   "execution_count": 667,
   "metadata": {},
   "outputs": [],
   "source": [
    "# pick = pick-up\n",
    "# trucks = truck\n",
    "# Sportback = Hatchback\n",
    "\n",
    "clk_list = list(used_car2[(used_car2.classification =='Pick')].index)\n",
    "for i in clk_list:\n",
    "    used_car2['classification'].iloc[i] = 'Pick-up'\n",
    "\n",
    "clk_list = list(used_car2[(used_car2.classification =='Trucks')].index)\n",
    "for i in clk_list:\n",
    "    used_car2['classification'].iloc[i] = 'Truck'\n",
    "    \n",
    "    clk_list = list(used_car2[(used_car2.classification =='Sportback')].index)\n",
    "for i in clk_list:\n",
    "    used_car2['classification'].iloc[i] = 'Hatchback'"
   ]
  },
  {
   "cell_type": "code",
   "execution_count": 668,
   "metadata": {},
   "outputs": [
    {
     "data": {
      "text/plain": [
       "SUV            3765\n",
       "MPV            2711\n",
       "Hatchback      2103\n",
       "Sedan          1955\n",
       "Wagon          1838\n",
       "Coupe           440\n",
       "Pick-up         135\n",
       "Convertible     103\n",
       "Van              91\n",
       "Jeep             35\n",
       "Truck            26\n",
       "Fastback         17\n",
       "Cabriolet        16\n",
       "Minibus           5\n",
       "Name: classification, dtype: int64"
      ]
     },
     "execution_count": 668,
     "metadata": {},
     "output_type": "execute_result"
    }
   ],
   "source": [
    "used_car2['classification'].value_counts()"
   ]
  },
  {
   "cell_type": "markdown",
   "metadata": {},
   "source": [
    "### 2. Cleaning column: price"
   ]
  },
  {
   "cell_type": "code",
   "execution_count": 688,
   "metadata": {},
   "outputs": [
    {
     "name": "stderr",
     "output_type": "stream",
     "text": [
      "C:\\Users\\Acer\\Anaconda3\\lib\\site-packages\\ipykernel_launcher.py:7: SettingWithCopyWarning: \n",
      "A value is trying to be set on a copy of a slice from a DataFrame\n",
      "\n",
      "See the caveats in the documentation: https://pandas.pydata.org/pandas-docs/stable/user_guide/indexing.html#returning-a-view-versus-a-copy\n",
      "  import sys\n"
     ]
    }
   ],
   "source": [
    "pattern = \"[0-9]+\"\n",
    "p = re.compile(pattern)\n",
    "\n",
    "used_car2['car_price'] = int(0)\n",
    "for i in range(len(used_car2)):\n",
    "    draft_price = used_car2.price[i][3:].replace('.','')\n",
    "    used_car2['car_price'][i]= int(p.findall(draft_price)[0])"
   ]
  },
  {
   "cell_type": "code",
   "execution_count": 690,
   "metadata": {},
   "outputs": [
    {
     "name": "stderr",
     "output_type": "stream",
     "text": [
      "C:\\Users\\Acer\\Anaconda3\\lib\\site-packages\\ipykernel_launcher.py:1: UserWarning: \n",
      "\n",
      "`distplot` is a deprecated function and will be removed in seaborn v0.14.0.\n",
      "\n",
      "Please adapt your code to use either `displot` (a figure-level function with\n",
      "similar flexibility) or `histplot` (an axes-level function for histograms).\n",
      "\n",
      "For a guide to updating your code to use the new functions, please see\n",
      "https://gist.github.com/mwaskom/de44147ed2974457ad6372750bbe5751\n",
      "\n",
      "  \"\"\"Entry point for launching an IPython kernel.\n",
      "C:\\Users\\Acer\\Anaconda3\\lib\\site-packages\\matplotlib\\cbook\\__init__.py:1402: FutureWarning: Support for multi-dimensional indexing (e.g. `obj[:, None]`) is deprecated and will be removed in a future version.  Convert to a numpy array before indexing instead.\n",
      "  x[:, None]\n",
      "C:\\Users\\Acer\\Anaconda3\\lib\\site-packages\\matplotlib\\axes\\_base.py:276: FutureWarning: Support for multi-dimensional indexing (e.g. `obj[:, None]`) is deprecated and will be removed in a future version.  Convert to a numpy array before indexing instead.\n",
      "  x = x[:, np.newaxis]\n",
      "C:\\Users\\Acer\\Anaconda3\\lib\\site-packages\\matplotlib\\axes\\_base.py:278: FutureWarning: Support for multi-dimensional indexing (e.g. `obj[:, None]`) is deprecated and will be removed in a future version.  Convert to a numpy array before indexing instead.\n",
      "  y = y[:, np.newaxis]\n"
     ]
    },
    {
     "data": {
      "text/plain": [
       "<matplotlib.axes._subplots.AxesSubplot at 0x25397691448>"
      ]
     },
     "execution_count": 690,
     "metadata": {},
     "output_type": "execute_result"
    },
    {
     "data": {
      "image/png": "[encoded data removed]",
      "text/plain": [
       "<Figure size 432x288 with 1 Axes>"
      ]
     },
     "metadata": {
      "needs_background": "light"
     },
     "output_type": "display_data"
    }
   ],
   "source": [
    "sns.distplot(used_car2.car_price)"
   ]
  },
  {
   "cell_type": "markdown",
   "metadata": {},
   "source": [
    "### 3. Cleaning column: odometer to mileage"
   ]
  },
  {
   "cell_type": "code",
   "execution_count": 697,
   "metadata": {},
   "outputs": [
    {
     "data": {
      "text/plain": [
       "20 - 25K KM      688\n",
       "30 - 35K KM      645\n",
       "15 - 20K KM      621\n",
       "25 - 30K KM      618\n",
       "10 - 15K KM      603\n",
       "40 - 45K KM      587\n",
       "5 - 10K KM       550\n",
       "50 - 55K KM      549\n",
       "35 - 40K KM      531\n",
       "45 - 50K KM      481\n",
       "0 - 5K KM        456\n",
       "60 - 65K KM      419\n",
       "70 - 75K KM      394\n",
       "55 - 60K KM      388\n",
       "65 - 70K KM      385\n",
       "75 - 80K KM      383\n",
       "80 - 85K KM      331\n",
       "85 - 90K KM      318\n",
       "90 - 95K KM      302\n",
       "95 - 100K KM     273\n",
       "100 - 105K KM    240\n",
       "120 - 125K KM    189\n",
       "110 - 115K KM    159\n",
       "105 - 110K KM    156\n",
       "115 - 120K KM    134\n",
       "140 - 145K KM    117\n",
       "130 - 135K KM    113\n",
       "125 - 130K KM     98\n",
       "160 - 165K KM     78\n",
       "135 - 140K KM     75\n",
       "Name: odometer, dtype: int64"
      ]
     },
     "execution_count": 697,
     "metadata": {},
     "output_type": "execute_result"
    }
   ],
   "source": [
    "used_car2['odometer'].value_counts()[:30]"
   ]
  },
  {
   "cell_type": "code",
   "execution_count": 713,
   "metadata": {},
   "outputs": [
    {
     "name": "stderr",
     "output_type": "stream",
     "text": [
      "C:\\Users\\Acer\\Anaconda3\\lib\\site-packages\\ipykernel_launcher.py:23: SettingWithCopyWarning: \n",
      "A value is trying to be set on a copy of a slice from a DataFrame\n",
      "\n",
      "See the caveats in the documentation: https://pandas.pydata.org/pandas-docs/stable/user_guide/indexing.html#returning-a-view-versus-a-copy\n",
      "C:\\Users\\Acer\\Anaconda3\\lib\\site-packages\\ipykernel_launcher.py:21: SettingWithCopyWarning: \n",
      "A value is trying to be set on a copy of a slice from a DataFrame\n",
      "\n",
      "See the caveats in the documentation: https://pandas.pydata.org/pandas-docs/stable/user_guide/indexing.html#returning-a-view-versus-a-copy\n"
     ]
    }
   ],
   "source": [
    "pattern = \"[0-9]+\"\n",
    "p = re.compile(pattern)\n",
    "\n",
    "pattern = \"K\"\n",
    "r = re.compile(pattern)\n",
    "\n",
    "used_car2['mileage'] = int(0)\n",
    "\n",
    "for i in range(len(used_car2)):   \n",
    "    try:\n",
    "        draft_mileage = used_car2.odometer[i][:-2]\n",
    "\n",
    "        # find K multiplication\n",
    "        kilo = 1\n",
    "        if r.findall(draft_mileage):\n",
    "            kilo = 1000\n",
    "\n",
    "        # get the mileage\n",
    "        draft_mileage = p.findall(draft_mileage)\n",
    "        if len(draft_mileage) == 2:\n",
    "            used_car2['mileage'][i] = (int(draft_mileage[0])+int(draft_mileage[1]))*kilo/2\n",
    "        elif len(draft_mileage) == 1:\n",
    "            used_car2['mileage'][i] = int(draft_mileage[0])*kilo\n",
    "    except:\n",
    "        pass"
   ]
  },
  {
   "cell_type": "code",
   "execution_count": 716,
   "metadata": {},
   "outputs": [
    {
     "name": "stderr",
     "output_type": "stream",
     "text": [
      "C:\\Users\\Acer\\Anaconda3\\lib\\site-packages\\ipykernel_launcher.py:1: UserWarning: \n",
      "\n",
      "`distplot` is a deprecated function and will be removed in seaborn v0.14.0.\n",
      "\n",
      "Please adapt your code to use either `displot` (a figure-level function with\n",
      "similar flexibility) or `histplot` (an axes-level function for histograms).\n",
      "\n",
      "For a guide to updating your code to use the new functions, please see\n",
      "https://gist.github.com/mwaskom/de44147ed2974457ad6372750bbe5751\n",
      "\n",
      "  \"\"\"Entry point for launching an IPython kernel.\n",
      "C:\\Users\\Acer\\Anaconda3\\lib\\site-packages\\matplotlib\\cbook\\__init__.py:1402: FutureWarning: Support for multi-dimensional indexing (e.g. `obj[:, None]`) is deprecated and will be removed in a future version.  Convert to a numpy array before indexing instead.\n",
      "  x[:, None]\n",
      "C:\\Users\\Acer\\Anaconda3\\lib\\site-packages\\matplotlib\\axes\\_base.py:276: FutureWarning: Support for multi-dimensional indexing (e.g. `obj[:, None]`) is deprecated and will be removed in a future version.  Convert to a numpy array before indexing instead.\n",
      "  x = x[:, np.newaxis]\n",
      "C:\\Users\\Acer\\Anaconda3\\lib\\site-packages\\matplotlib\\axes\\_base.py:278: FutureWarning: Support for multi-dimensional indexing (e.g. `obj[:, None]`) is deprecated and will be removed in a future version.  Convert to a numpy array before indexing instead.\n",
      "  y = y[:, np.newaxis]\n"
     ]
    },
    {
     "data": {
      "text/plain": [
       "<matplotlib.axes._subplots.AxesSubplot at 0x25396c85a88>"
      ]
     },
     "execution_count": 716,
     "metadata": {},
     "output_type": "execute_result"
    },
    {
     "data": {
      "image/png": "[encoded data removed]",
      "text/plain": [
       "<Figure size 432x288 with 1 Axes>"
      ]
     },
     "metadata": {
      "needs_background": "light"
     },
     "output_type": "display_data"
    }
   ],
   "source": [
    "sns.distplot(used_car2.mileage)"
   ]
  },
  {
   "cell_type": "markdown",
   "metadata": {},
   "source": [
    "### 4. Fix dataframe"
   ]
  },
  {
   "cell_type": "code",
   "execution_count": 717,
   "metadata": {},
   "outputs": [
    {
     "name": "stdout",
     "output_type": "stream",
     "text": [
      "<class 'pandas.core.frame.DataFrame'>\n",
      "RangeIndex: 13240 entries, 0 to 13239\n",
      "Data columns (total 12 columns):\n",
      " #   Column          Non-Null Count  Dtype \n",
      "---  ------          --------------  ----- \n",
      " 0   desc            13240 non-null  object\n",
      " 1   price           13240 non-null  object\n",
      " 2   odometer        13240 non-null  object\n",
      " 3   transmision     13240 non-null  object\n",
      " 4   location        13240 non-null  object\n",
      " 5   link            13240 non-null  object\n",
      " 6   year            13240 non-null  int64 \n",
      " 7   manufacturer    13240 non-null  object\n",
      " 8   model           13240 non-null  object\n",
      " 9   classification  13240 non-null  object\n",
      " 10  car_price       13240 non-null  int64 \n",
      " 11  mileage         13240 non-null  int64 \n",
      "dtypes: int64(3), object(9)\n",
      "memory usage: 1.2+ MB\n"
     ]
    }
   ],
   "source": [
    "used_car2.info()"
   ]
  },
  {
   "cell_type": "code",
   "execution_count": 718,
   "metadata": {},
   "outputs": [],
   "source": [
    "# drop unused column\n",
    "cols = ['desc', 'price', 'odometer']\n",
    "used_car_fix = used_car2.drop(cols, axis=1).copy()"
   ]
  },
  {
   "cell_type": "code",
   "execution_count": 728,
   "metadata": {},
   "outputs": [],
   "source": [
    "# save to csv\n",
    "used_car_fix.to_csv(\"used_car_indonesia_20231217.csv\", index=False)"
   ]
  },
  {
   "cell_type": "code",
   "execution_count": null,
   "metadata": {},
   "outputs": [],
   "source": []
  }
 ],
 "metadata": {
  "kernelspec": {
   "display_name": "Python 3",
   "language": "python",
   "name": "python3"
  },
  "language_info": {
   "codemirror_mode": {
    "name": "ipython",
    "version": 3
   },
   "file_extension": ".py",
   "mimetype": "text/x-python",
   "name": "python",
   "nbconvert_exporter": "python",
   "pygments_lexer": "ipython3",
   "version": "3.7.4"
  }
 },
 "nbformat": 4,
 "nbformat_minor": 2
}
